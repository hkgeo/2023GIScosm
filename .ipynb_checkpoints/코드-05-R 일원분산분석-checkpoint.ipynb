{
 "cells": [
  {
   "cell_type": "markdown",
   "id": "fd676db5-cce3-4283-bf70-a5eb91adbb3d",
   "metadata": {},
   "source": [
    "## 05. 일원분산분석(one-way ANOVA)\n",
    "\n",
    "피셔의 분산분석(ANOVA)이란?: 세 개 이상의 모집단에 대한 모평균의 차이에 대한 가설검정입니다. 회귀분석과 마찬가지로 p-값에 따라 가설의 유의수준을 파악합니다. 이어서 잔차가 정규성/등분산성을 만족하는지도 파악합니다. ANOVA 분석의 귀무가설은 ‘모든 집단의 평균이 동일하다’ 입니다. 따라서 p값이 0.05보다 작다면 95% 신뢰구간에서 적어도 한 집단의 모평균이 다른 집단의 모평균과 다르다고 할 수 있습니다.\n",
    "\n",
    "만약 ANOVA 결과 집단별 모평균에서 차이가 발생했을 경우 정확히 어떤 그룹과 어떤 그룹 사이에서 모평균 차이가 발생했는지 알아 볼 필요가 있습니다. 이를 사후분석(Post hoc)이라고 하는데, FWER(FamilyWise Error Rate, 여러 귀무가설 중 적어도 하나의 귀무가설에서 참이지만 기각하는 오류-1종오류-가 발생할 확률, 즉 차이가 발생했다고 거짓말을 할 확률)를 평가합니다. FWER가 높을수록 p값이 작겠지요?\n",
    "\n",
    "R에 포함된 통계데이터를 활용하여 실제 분석을 진행해 보겠습니다."
   ]
  },
  {
   "cell_type": "code",
   "execution_count": 1,
   "id": "ee383fbe-7130-4347-b242-8ed331a04a59",
   "metadata": {
    "tags": []
   },
   "outputs": [
    {
     "data": {
      "text/html": [
       "<table class=\"dataframe\">\n",
       "<caption>A data.frame: 6 × 2</caption>\n",
       "<thead>\n",
       "\t<tr><th></th><th scope=col>weight</th><th scope=col>group</th></tr>\n",
       "\t<tr><th></th><th scope=col>&lt;dbl&gt;</th><th scope=col>&lt;fct&gt;</th></tr>\n",
       "</thead>\n",
       "<tbody>\n",
       "\t<tr><th scope=row>1</th><td>4.17</td><td>ctrl</td></tr>\n",
       "\t<tr><th scope=row>2</th><td>5.58</td><td>ctrl</td></tr>\n",
       "\t<tr><th scope=row>3</th><td>5.18</td><td>ctrl</td></tr>\n",
       "\t<tr><th scope=row>4</th><td>6.11</td><td>ctrl</td></tr>\n",
       "\t<tr><th scope=row>5</th><td>4.50</td><td>ctrl</td></tr>\n",
       "\t<tr><th scope=row>6</th><td>4.61</td><td>ctrl</td></tr>\n",
       "</tbody>\n",
       "</table>\n"
      ],
      "text/latex": [
       "A data.frame: 6 × 2\n",
       "\\begin{tabular}{r|ll}\n",
       "  & weight & group\\\\\n",
       "  & <dbl> & <fct>\\\\\n",
       "\\hline\n",
       "\t1 & 4.17 & ctrl\\\\\n",
       "\t2 & 5.58 & ctrl\\\\\n",
       "\t3 & 5.18 & ctrl\\\\\n",
       "\t4 & 6.11 & ctrl\\\\\n",
       "\t5 & 4.50 & ctrl\\\\\n",
       "\t6 & 4.61 & ctrl\\\\\n",
       "\\end{tabular}\n"
      ],
      "text/markdown": [
       "\n",
       "A data.frame: 6 × 2\n",
       "\n",
       "| <!--/--> | weight &lt;dbl&gt; | group &lt;fct&gt; |\n",
       "|---|---|---|\n",
       "| 1 | 4.17 | ctrl |\n",
       "| 2 | 5.58 | ctrl |\n",
       "| 3 | 5.18 | ctrl |\n",
       "| 4 | 6.11 | ctrl |\n",
       "| 5 | 4.50 | ctrl |\n",
       "| 6 | 4.61 | ctrl |\n",
       "\n"
      ],
      "text/plain": [
       "  weight group\n",
       "1 4.17   ctrl \n",
       "2 5.58   ctrl \n",
       "3 5.18   ctrl \n",
       "4 6.11   ctrl \n",
       "5 4.50   ctrl \n",
       "6 4.61   ctrl "
      ]
     },
     "metadata": {},
     "output_type": "display_data"
    }
   ],
   "source": [
    "data('PlantGrowth')\n",
    "head(PlantGrowth)"
   ]
  },
  {
   "cell_type": "markdown",
   "id": "52671612-f93f-4f91-b44d-371d9f62a83c",
   "metadata": {},
   "source": [
    "R에 기본으로 들어있는 PlantGrowth 데이터셋은 식물에 대한 실험에서 통제변인(ctrl)과 두 개의 조작변인(trt1, trt2)을 가한 식물들의 무게와 적용된 변인을 기록한 것입니다."
   ]
  },
  {
   "cell_type": "code",
   "execution_count": 2,
   "id": "64bd76eb-9ac6-499f-b8c3-d76d8b5db1cb",
   "metadata": {
    "tags": []
   },
   "outputs": [
    {
     "data": {
      "text/html": [
       "<style>\n",
       ".list-inline {list-style: none; margin:0; padding: 0}\n",
       ".list-inline>li {display: inline-block}\n",
       ".list-inline>li:not(:last-child)::after {content: \"\\00b7\"; padding: 0 .5ex}\n",
       "</style>\n",
       "<ol class=list-inline><li>'ctrl'</li><li>'trt1'</li><li>'trt2'</li></ol>\n"
      ],
      "text/latex": [
       "\\begin{enumerate*}\n",
       "\\item 'ctrl'\n",
       "\\item 'trt1'\n",
       "\\item 'trt2'\n",
       "\\end{enumerate*}\n"
      ],
      "text/markdown": [
       "1. 'ctrl'\n",
       "2. 'trt1'\n",
       "3. 'trt2'\n",
       "\n",
       "\n"
      ],
      "text/plain": [
       "[1] \"ctrl\" \"trt1\" \"trt2\""
      ]
     },
     "metadata": {},
     "output_type": "display_data"
    },
    {
     "data": {
      "text/plain": [
       "            Df Sum Sq Mean Sq F value Pr(>F)  \n",
       "group        2  3.766  1.8832   4.846 0.0159 *\n",
       "Residuals   27 10.492  0.3886                 \n",
       "---\n",
       "Signif. codes:  0 '***' 0.001 '**' 0.01 '*' 0.05 '.' 0.1 ' ' 1"
      ]
     },
     "metadata": {},
     "output_type": "display_data"
    }
   ],
   "source": [
    "levels(PlantGrowth$group)     #그룹에 몇 개의 수준이 있는지 확인\n",
    "#'ctrl', 'trt1', 'trt2'\n",
    "anova1 = aov(weight ~ group, data = PlantGrowth)\n",
    "summary(anova1)"
   ]
  },
  {
   "cell_type": "markdown",
   "id": "d71054ef-6cc2-472e-b7f1-c69a1168a8fb",
   "metadata": {},
   "source": [
    "Pr(>F)가 0.0159라서 약 99% 신뢰수준에서 적어도 한 집단의 모평균이 다른 집단의 모평균과 다르다고 할 수 있습니다."
   ]
  },
  {
   "cell_type": "code",
   "execution_count": 3,
   "id": "0cb2afb6-e2af-4f19-9e3d-76f3d110bec5",
   "metadata": {
    "tags": []
   },
   "outputs": [
    {
     "data": {
      "text/plain": [
       "\n",
       "\tShapiro-Wilk normality test\n",
       "\n",
       "data:  PlantGrowth$weight[PlantGrowth$group == \"ctrl\"]\n",
       "W = 0.95668, p-value = 0.7475\n"
      ]
     },
     "metadata": {},
     "output_type": "display_data"
    },
    {
     "data": {
      "text/plain": [
       "\n",
       "\tShapiro-Wilk normality test\n",
       "\n",
       "data:  PlantGrowth$weight[PlantGrowth$group == \"trt1\"]\n",
       "W = 0.93041, p-value = 0.4519\n"
      ]
     },
     "metadata": {},
     "output_type": "display_data"
    },
    {
     "data": {
      "text/plain": [
       "\n",
       "\tShapiro-Wilk normality test\n",
       "\n",
       "data:  PlantGrowth$weight[PlantGrowth$group == \"trt2\"]\n",
       "W = 0.94101, p-value = 0.5643\n"
      ]
     },
     "metadata": {},
     "output_type": "display_data"
    }
   ],
   "source": [
    "shapiro.test(PlantGrowth$weight[PlantGrowth$group=='ctrl'])\n",
    "shapiro.test(PlantGrowth$weight[PlantGrowth$group=='trt1'])\n",
    "shapiro.test(PlantGrowth$weight[PlantGrowth$group=='trt2'])"
   ]
  },
  {
   "cell_type": "markdown",
   "id": "e300278f-0909-4474-a025-a16b9c21aafc",
   "metadata": {
    "tags": []
   },
   "source": [
    "정규성 검정입니다. 세 그룹 모두 정규성 가정을 위반하지 않는다고 볼 수 있습니다. 따라서 등분산성의 경우 자료가 정규성 가정을 위반했던 회귀분석때의 예시와는 다르게 location이 mean인 레빈 검정 혹은 바틀렛 검정(bartlett.test)을 실시해야 합니다.\n",
    "\n",
    "lawstat 패키지 설치 및 로드가 필요합니다."
   ]
  },
  {
   "cell_type": "code",
   "execution_count": 4,
   "id": "d8e6c0ea-85c7-4cd6-9ef1-c518c82f0c0d",
   "metadata": {
    "tags": []
   },
   "outputs": [
    {
     "name": "stderr",
     "output_type": "stream",
     "text": [
      "Installing package into 'C:/Users/82107/AppData/Local/R/win-library/4.2'\n",
      "(as 'lib' is unspecified)\n",
      "\n"
     ]
    },
    {
     "name": "stdout",
     "output_type": "stream",
     "text": [
      "package 'lawstat' successfully unpacked and MD5 sums checked\n",
      "\n",
      "The downloaded binary packages are in\n",
      "\tC:\\Users\\82107\\AppData\\Local\\Temp\\Rtmpy0b8YI\\downloaded_packages\n"
     ]
    }
   ],
   "source": [
    "install.packages('lawstat')\n",
    "library(lawstat)"
   ]
  },
  {
   "cell_type": "code",
   "execution_count": 5,
   "id": "439cac90-aa88-4bd6-a6fa-8104ffc953ab",
   "metadata": {
    "tags": []
   },
   "outputs": [
    {
     "data": {
      "text/plain": [
       "\n",
       "\tBartlett test of homogeneity of variances\n",
       "\n",
       "data:  PlantGrowth$weight and PlantGrowth$group\n",
       "Bartlett's K-squared = 2.8786, df = 2, p-value = 0.2371\n"
      ]
     },
     "metadata": {},
     "output_type": "display_data"
    },
    {
     "data": {
      "text/plain": [
       "\n",
       "\tClassical Levene's test based on the absolute deviations from the mean\n",
       "\t( none not applied because the location is not set to median )\n",
       "\n",
       "data:  PlantGrowth$weight\n",
       "Test Statistic = 1.237, p-value = 0.3062\n"
      ]
     },
     "metadata": {},
     "output_type": "display_data"
    }
   ],
   "source": [
    "bartlett.test(PlantGrowth$weight, PlantGrowth$group)\n",
    "#바틀렛 검정\n",
    "levene.test(PlantGrowth$weight, PlantGrowth$group, location='mean')\n",
    "#레빈 검정"
   ]
  },
  {
   "cell_type": "markdown",
   "id": "78a59351-1012-45b8-a095-310c366a136a",
   "metadata": {},
   "source": [
    "두 검정에서 모두 등분산성 가정이 유지됩니다. 만약 ANOVA 결과 집단별 모평균에서 차이가 발생했을 경우 정확히 어떤 그룹과 어떤 그룹 사이에서 모평균 차이가 발생했는지 알아 볼 필요가 있습니다. 이를 사후분석(Post hoc)이라고 하는데, FWER(FamilyWise Error Rate, 여러 귀무가설 중 적어도 하나의 귀무가설에서 참이지만 기각하는 오류-1종오류-가 발생할 확률, 즉 차이가 발생했다고 거짓말을 할 확률)를 평가합니다. FWER가 높을수록 p값이 작겠지요?\n",
    "\n",
    "ANOVA 분석 결과 그룹간 모평균 차이가 있었기 때문에, 사후분석을 해봅니다.\n",
    "\n",
    "DescTools 패키지 설치 및 로드가 필요합니다."
   ]
  },
  {
   "cell_type": "code",
   "execution_count": 6,
   "id": "fb97d57d-f25c-4e54-95c6-dac4f635d953",
   "metadata": {
    "tags": []
   },
   "outputs": [
    {
     "name": "stderr",
     "output_type": "stream",
     "text": [
      "Installing package into 'C:/Users/82107/AppData/Local/R/win-library/4.2'\n",
      "(as 'lib' is unspecified)\n",
      "\n"
     ]
    },
    {
     "name": "stdout",
     "output_type": "stream",
     "text": [
      "package 'DescTools' successfully unpacked and MD5 sums checked\n",
      "\n",
      "The downloaded binary packages are in\n",
      "\tC:\\Users\\82107\\AppData\\Local\\Temp\\Rtmpy0b8YI\\downloaded_packages\n"
     ]
    }
   ],
   "source": [
    "install.packages('DescTools')\n",
    "library(DescTools)"
   ]
  },
  {
   "cell_type": "code",
   "execution_count": 7,
   "id": "f221c829-28ce-4cf3-ad22-3fe2536a1dd0",
   "metadata": {
    "tags": []
   },
   "outputs": [
    {
     "data": {
      "text/plain": [
       "\n",
       "  Posthoc multiple comparisons of means : Fisher LSD \n",
       "    95% family-wise confidence level\n",
       "\n",
       "$group\n",
       "            diff      lwr.ci    upr.ci   pval    \n",
       "trt1-ctrl -0.371 -0.94301261 0.2010126 0.1944    \n",
       "trt2-ctrl  0.494 -0.07801261 1.0660126 0.0877 .  \n",
       "trt2-trt1  0.865  0.29298739 1.4370126 0.0045 ** \n",
       "\n",
       "---\n",
       "Signif. codes:  0 '***' 0.001 '**' 0.01 '*' 0.05 '.' 0.1 ' ' 1\n"
      ]
     },
     "metadata": {},
     "output_type": "display_data"
    },
    {
     "data": {
      "text/plain": [
       "\n",
       "  Posthoc multiple comparisons of means : Bonferroni \n",
       "    95% family-wise confidence level\n",
       "\n",
       "$group\n",
       "            diff     lwr.ci    upr.ci   pval    \n",
       "trt1-ctrl -0.371 -1.0825786 0.3405786 0.5832    \n",
       "trt2-ctrl  0.494 -0.2175786 1.2055786 0.2630    \n",
       "trt2-trt1  0.865  0.1534214 1.5765786 0.0134 *  \n",
       "\n",
       "---\n",
       "Signif. codes:  0 '***' 0.001 '**' 0.01 '*' 0.05 '.' 0.1 ' ' 1\n"
      ]
     },
     "metadata": {},
     "output_type": "display_data"
    },
    {
     "data": {
      "text/plain": [
       "\n",
       "  Posthoc multiple comparisons of means : Tukey HSD \n",
       "    95% family-wise confidence level\n",
       "\n",
       "$group\n",
       "            diff     lwr.ci    upr.ci   pval    \n",
       "trt1-ctrl -0.371 -1.0622161 0.3202161 0.3909    \n",
       "trt2-ctrl  0.494 -0.1972161 1.1852161 0.1980    \n",
       "trt2-trt1  0.865  0.1737839 1.5562161 0.0120 *  \n",
       "\n",
       "---\n",
       "Signif. codes:  0 '***' 0.001 '**' 0.01 '*' 0.05 '.' 0.1 ' ' 1\n"
      ]
     },
     "metadata": {},
     "output_type": "display_data"
    },
    {
     "data": {
      "text/plain": [
       "\n",
       "  Posthoc multiple comparisons of means: Scheffe Test \n",
       "    95% family-wise confidence level\n",
       "\n",
       "$group\n",
       "            diff     lwr.ci    upr.ci   pval    \n",
       "trt1-ctrl -0.371 -1.0930531 0.3510531 0.4241    \n",
       "trt2-ctrl  0.494 -0.2280531 1.2160531 0.2265    \n",
       "trt2-trt1  0.865  0.1429469 1.5870531 0.0163 *  \n",
       "\n",
       "---\n",
       "Signif. codes:  0 '***' 0.001 '**' 0.01 '*' 0.05 '.' 0.1 ' ' 1\n"
      ]
     },
     "metadata": {},
     "output_type": "display_data"
    }
   ],
   "source": [
    "PostHocTest(anova1, method=\"lsd\")\n",
    "PostHocTest(anova1, method=\"bonferroni\")\n",
    "PostHocTest(anova1, method=\"hsd\")\n",
    "PostHocTest(anova1, method=\"scheffe\")"
   ]
  },
  {
   "cell_type": "markdown",
   "id": "2fa79038-ce34-4d04-9373-95b86c91edac",
   "metadata": {},
   "source": [
    "method 별 특징\n",
    "\n",
    "- 피셔의 LSD(‘lsd’): FWER 높음.\n",
    "유의수준 보정 없음.\n",
    "\n",
    "- 봉페로니 교정(‘bonferroni’)\n",
    "FWER 중간.\n",
    "모든 집단을 짝지어 평가, p값이 3배.\n",
    "\n",
    "- 투키의 HSD(‘hsd’)\n",
    "FWER 중간.\n",
    "\n",
    "- 셰페의 방법(‘scheffe’)\n",
    "FWER 낮음. 보수적. 귀무가설이 거짓이어도 수용할 가능성 있음.(2종오류)\n",
    "\n",
    "FWER의 기준을 5%(0.05)로 정했을 때, p값이 0.05보다 작은 trt1-trt2 사이의 모평균 차이만 95% 신뢰구간에서 유의미하다고 할 수 있겠습니다."
   ]
  }
 ],
 "metadata": {
  "kernelspec": {
   "display_name": "R",
   "language": "R",
   "name": "r"
  },
  "language_info": {
   "codemirror_mode": "r",
   "file_extension": ".r",
   "mimetype": "text/x-r-source",
   "name": "R",
   "pygments_lexer": "r",
   "version": "4.2.2"
  }
 },
 "nbformat": 4,
 "nbformat_minor": 5
}
