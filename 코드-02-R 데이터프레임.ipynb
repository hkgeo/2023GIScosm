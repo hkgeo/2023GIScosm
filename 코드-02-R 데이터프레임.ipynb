{
 "cells": [
  {
   "cell_type": "code",
   "execution_count": 15,
   "id": "53902e18-26ed-4f8d-894c-b46f891f88d2",
   "metadata": {
    "tags": []
   },
   "outputs": [
    {
     "name": "stderr",
     "output_type": "stream",
     "text": [
      "\n",
      "Attaching package: 'dplyr'\n",
      "\n",
      "\n",
      "The following objects are masked from 'package:stats':\n",
      "\n",
      "    filter, lag\n",
      "\n",
      "\n",
      "The following objects are masked from 'package:base':\n",
      "\n",
      "    intersect, setdiff, setequal, union\n",
      "\n",
      "\n"
     ]
    }
   ],
   "source": [
    "library(dplyr)\n",
    "library(readxl)\n",
    "library(writexl)"
   ]
  },
  {
   "cell_type": "code",
   "execution_count": 27,
   "id": "90a946e7-ca6b-420f-854c-026e6c664274",
   "metadata": {
    "tags": []
   },
   "outputs": [],
   "source": [
    "df1<-read.csv('./데이터/02-df01.csv')\n",
    "df2<-read_excel('./데이터/02-df02.xlsx')\n",
    "df3<-read.csv('./데이터/02-df03.csv')\n",
    "df4<-read.csv('./데이터/02-df04.csv')"
   ]
  },
  {
   "cell_type": "code",
   "execution_count": 28,
   "id": "d4bdc7b3-9af3-488d-81f3-fc8e1cdcf27d",
   "metadata": {
    "tags": []
   },
   "outputs": [
    {
     "data": {
      "text/html": [
       "<table class=\"dataframe\">\n",
       "<caption>A data.frame: 3 × 3</caption>\n",
       "<thead>\n",
       "\t<tr><th></th><th scope=col>NAME</th><th scope=col>AGE</th><th scope=col>SMOKE</th></tr>\n",
       "\t<tr><th></th><th scope=col>&lt;chr&gt;</th><th scope=col>&lt;int&gt;</th><th scope=col>&lt;lgl&gt;</th></tr>\n",
       "</thead>\n",
       "<tbody>\n",
       "\t<tr><th scope=row>1</th><td>Kim     </td><td>56</td><td> TRUE</td></tr>\n",
       "\t<tr><th scope=row>2</th><td>James   </td><td>34</td><td>FALSE</td></tr>\n",
       "\t<tr><th scope=row>3</th><td>Yamamoto</td><td>12</td><td>FALSE</td></tr>\n",
       "</tbody>\n",
       "</table>\n"
      ],
      "text/latex": [
       "A data.frame: 3 × 3\n",
       "\\begin{tabular}{r|lll}\n",
       "  & NAME & AGE & SMOKE\\\\\n",
       "  & <chr> & <int> & <lgl>\\\\\n",
       "\\hline\n",
       "\t1 & Kim      & 56 &  TRUE\\\\\n",
       "\t2 & James    & 34 & FALSE\\\\\n",
       "\t3 & Yamamoto & 12 & FALSE\\\\\n",
       "\\end{tabular}\n"
      ],
      "text/markdown": [
       "\n",
       "A data.frame: 3 × 3\n",
       "\n",
       "| <!--/--> | NAME &lt;chr&gt; | AGE &lt;int&gt; | SMOKE &lt;lgl&gt; |\n",
       "|---|---|---|---|\n",
       "| 1 | Kim      | 56 |  TRUE |\n",
       "| 2 | James    | 34 | FALSE |\n",
       "| 3 | Yamamoto | 12 | FALSE |\n",
       "\n"
      ],
      "text/plain": [
       "  NAME     AGE SMOKE\n",
       "1 Kim      56   TRUE\n",
       "2 James    34  FALSE\n",
       "3 Yamamoto 12  FALSE"
      ]
     },
     "metadata": {},
     "output_type": "display_data"
    },
    {
     "data": {
      "text/html": [
       "<table class=\"dataframe\">\n",
       "<caption>A tibble: 2 × 3</caption>\n",
       "<thead>\n",
       "\t<tr><th scope=col>NAME</th><th scope=col>AGE</th><th scope=col>SMOKE</th></tr>\n",
       "\t<tr><th scope=col>&lt;chr&gt;</th><th scope=col>&lt;dbl&gt;</th><th scope=col>&lt;lgl&gt;</th></tr>\n",
       "</thead>\n",
       "<tbody>\n",
       "\t<tr><td>Katherine</td><td>78</td><td> TRUE</td></tr>\n",
       "\t<tr><td>Nicolas  </td><td>45</td><td>FALSE</td></tr>\n",
       "</tbody>\n",
       "</table>\n"
      ],
      "text/latex": [
       "A tibble: 2 × 3\n",
       "\\begin{tabular}{lll}\n",
       " NAME & AGE & SMOKE\\\\\n",
       " <chr> & <dbl> & <lgl>\\\\\n",
       "\\hline\n",
       "\t Katherine & 78 &  TRUE\\\\\n",
       "\t Nicolas   & 45 & FALSE\\\\\n",
       "\\end{tabular}\n"
      ],
      "text/markdown": [
       "\n",
       "A tibble: 2 × 3\n",
       "\n",
       "| NAME &lt;chr&gt; | AGE &lt;dbl&gt; | SMOKE &lt;lgl&gt; |\n",
       "|---|---|---|\n",
       "| Katherine | 78 |  TRUE |\n",
       "| Nicolas   | 45 | FALSE |\n",
       "\n"
      ],
      "text/plain": [
       "  NAME      AGE SMOKE\n",
       "1 Katherine 78   TRUE\n",
       "2 Nicolas   45  FALSE"
      ]
     },
     "metadata": {},
     "output_type": "display_data"
    },
    {
     "data": {
      "text/html": [
       "<table class=\"dataframe\">\n",
       "<caption>A data.frame: 5 × 2</caption>\n",
       "<thead>\n",
       "\t<tr><th></th><th scope=col>SEX</th><th scope=col>NATIONALITY</th></tr>\n",
       "\t<tr><th></th><th scope=col>&lt;chr&gt;</th><th scope=col>&lt;chr&gt;</th></tr>\n",
       "</thead>\n",
       "<tbody>\n",
       "\t<tr><th scope=row>1</th><td>M</td><td>Korea         </td></tr>\n",
       "\t<tr><th scope=row>2</th><td>F</td><td>United Kingdom</td></tr>\n",
       "\t<tr><th scope=row>3</th><td>M</td><td>Japan         </td></tr>\n",
       "\t<tr><th scope=row>4</th><td>F</td><td>United States </td></tr>\n",
       "\t<tr><th scope=row>5</th><td>M</td><td>France        </td></tr>\n",
       "</tbody>\n",
       "</table>\n"
      ],
      "text/latex": [
       "A data.frame: 5 × 2\n",
       "\\begin{tabular}{r|ll}\n",
       "  & SEX & NATIONALITY\\\\\n",
       "  & <chr> & <chr>\\\\\n",
       "\\hline\n",
       "\t1 & M & Korea         \\\\\n",
       "\t2 & F & United Kingdom\\\\\n",
       "\t3 & M & Japan         \\\\\n",
       "\t4 & F & United States \\\\\n",
       "\t5 & M & France        \\\\\n",
       "\\end{tabular}\n"
      ],
      "text/markdown": [
       "\n",
       "A data.frame: 5 × 2\n",
       "\n",
       "| <!--/--> | SEX &lt;chr&gt; | NATIONALITY &lt;chr&gt; |\n",
       "|---|---|---|\n",
       "| 1 | M | Korea          |\n",
       "| 2 | F | United Kingdom |\n",
       "| 3 | M | Japan          |\n",
       "| 4 | F | United States  |\n",
       "| 5 | M | France         |\n",
       "\n"
      ],
      "text/plain": [
       "  SEX NATIONALITY   \n",
       "1 M   Korea         \n",
       "2 F   United Kingdom\n",
       "3 M   Japan         \n",
       "4 F   United States \n",
       "5 M   France        "
      ]
     },
     "metadata": {},
     "output_type": "display_data"
    },
    {
     "data": {
      "text/html": [
       "<table class=\"dataframe\">\n",
       "<caption>A data.frame: 4 × 2</caption>\n",
       "<thead>\n",
       "\t<tr><th></th><th scope=col>CITY</th><th scope=col>NAME</th></tr>\n",
       "\t<tr><th></th><th scope=col>&lt;chr&gt;</th><th scope=col>&lt;chr&gt;</th></tr>\n",
       "</thead>\n",
       "<tbody>\n",
       "\t<tr><th scope=row>1</th><td>New York</td><td>Katherine</td></tr>\n",
       "\t<tr><th scope=row>2</th><td>Seoul   </td><td>Kim      </td></tr>\n",
       "\t<tr><th scope=row>3</th><td>London  </td><td>James    </td></tr>\n",
       "\t<tr><th scope=row>4</th><td>Moscow  </td><td>Zakhaev  </td></tr>\n",
       "</tbody>\n",
       "</table>\n"
      ],
      "text/latex": [
       "A data.frame: 4 × 2\n",
       "\\begin{tabular}{r|ll}\n",
       "  & CITY & NAME\\\\\n",
       "  & <chr> & <chr>\\\\\n",
       "\\hline\n",
       "\t1 & New York & Katherine\\\\\n",
       "\t2 & Seoul    & Kim      \\\\\n",
       "\t3 & London   & James    \\\\\n",
       "\t4 & Moscow   & Zakhaev  \\\\\n",
       "\\end{tabular}\n"
      ],
      "text/markdown": [
       "\n",
       "A data.frame: 4 × 2\n",
       "\n",
       "| <!--/--> | CITY &lt;chr&gt; | NAME &lt;chr&gt; |\n",
       "|---|---|---|\n",
       "| 1 | New York | Katherine |\n",
       "| 2 | Seoul    | Kim       |\n",
       "| 3 | London   | James     |\n",
       "| 4 | Moscow   | Zakhaev   |\n",
       "\n"
      ],
      "text/plain": [
       "  CITY     NAME     \n",
       "1 New York Katherine\n",
       "2 Seoul    Kim      \n",
       "3 London   James    \n",
       "4 Moscow   Zakhaev  "
      ]
     },
     "metadata": {},
     "output_type": "display_data"
    }
   ],
   "source": [
    "head(df1)\n",
    "head(df2)\n",
    "head(df3)\n",
    "head(df4)"
   ]
  },
  {
   "cell_type": "code",
   "execution_count": 31,
   "id": "36ccd2f9-6e3a-474c-bcac-d6baf4b357c7",
   "metadata": {
    "tags": []
   },
   "outputs": [],
   "source": [
    "df5<-rbind(df1, df2)"
   ]
  },
  {
   "cell_type": "code",
   "execution_count": 32,
   "id": "0ebb0987-f964-4970-b269-13f7f72cf3ae",
   "metadata": {
    "tags": []
   },
   "outputs": [],
   "source": [
    "df6<-cbind(df5, df3)"
   ]
  },
  {
   "cell_type": "code",
   "execution_count": 35,
   "id": "9411506b-2fb6-4213-ad1c-6bf0efa46197",
   "metadata": {
    "tags": []
   },
   "outputs": [
    {
     "data": {
      "text/html": [
       "<table class=\"dataframe\">\n",
       "<caption>A data.frame: 6 × 6</caption>\n",
       "<thead>\n",
       "\t<tr><th scope=col>NAME</th><th scope=col>AGE</th><th scope=col>SMOKE</th><th scope=col>SEX</th><th scope=col>NATIONALITY</th><th scope=col>CITY</th></tr>\n",
       "\t<tr><th scope=col>&lt;chr&gt;</th><th scope=col>&lt;dbl&gt;</th><th scope=col>&lt;lgl&gt;</th><th scope=col>&lt;chr&gt;</th><th scope=col>&lt;chr&gt;</th><th scope=col>&lt;chr&gt;</th></tr>\n",
       "</thead>\n",
       "<tbody>\n",
       "\t<tr><td>James    </td><td>34</td><td>FALSE</td><td>F </td><td>United Kingdom</td><td>London  </td></tr>\n",
       "\t<tr><td>Katherine</td><td>78</td><td> TRUE</td><td>F </td><td>United States </td><td>New York</td></tr>\n",
       "\t<tr><td>Kim      </td><td>56</td><td> TRUE</td><td>M </td><td>Korea         </td><td>Seoul   </td></tr>\n",
       "\t<tr><td>Nicolas  </td><td>45</td><td>FALSE</td><td>M </td><td>France        </td><td>NA      </td></tr>\n",
       "\t<tr><td>Yamamoto </td><td>12</td><td>FALSE</td><td>M </td><td>Japan         </td><td>NA      </td></tr>\n",
       "\t<tr><td>Zakhaev  </td><td>NA</td><td>   NA</td><td>NA</td><td>NA            </td><td>Moscow  </td></tr>\n",
       "</tbody>\n",
       "</table>\n"
      ],
      "text/latex": [
       "A data.frame: 6 × 6\n",
       "\\begin{tabular}{llllll}\n",
       " NAME & AGE & SMOKE & SEX & NATIONALITY & CITY\\\\\n",
       " <chr> & <dbl> & <lgl> & <chr> & <chr> & <chr>\\\\\n",
       "\\hline\n",
       "\t James     & 34 & FALSE & F  & United Kingdom & London  \\\\\n",
       "\t Katherine & 78 &  TRUE & F  & United States  & New York\\\\\n",
       "\t Kim       & 56 &  TRUE & M  & Korea          & Seoul   \\\\\n",
       "\t Nicolas   & 45 & FALSE & M  & France         & NA      \\\\\n",
       "\t Yamamoto  & 12 & FALSE & M  & Japan          & NA      \\\\\n",
       "\t Zakhaev   & NA &    NA & NA & NA             & Moscow  \\\\\n",
       "\\end{tabular}\n"
      ],
      "text/markdown": [
       "\n",
       "A data.frame: 6 × 6\n",
       "\n",
       "| NAME &lt;chr&gt; | AGE &lt;dbl&gt; | SMOKE &lt;lgl&gt; | SEX &lt;chr&gt; | NATIONALITY &lt;chr&gt; | CITY &lt;chr&gt; |\n",
       "|---|---|---|---|---|---|\n",
       "| James     | 34 | FALSE | F  | United Kingdom | London   |\n",
       "| Katherine | 78 |  TRUE | F  | United States  | New York |\n",
       "| Kim       | 56 |  TRUE | M  | Korea          | Seoul    |\n",
       "| Nicolas   | 45 | FALSE | M  | France         | NA       |\n",
       "| Yamamoto  | 12 | FALSE | M  | Japan          | NA       |\n",
       "| Zakhaev   | NA |    NA | NA | NA             | Moscow   |\n",
       "\n"
      ],
      "text/plain": [
       "  NAME      AGE SMOKE SEX NATIONALITY    CITY    \n",
       "1 James     34  FALSE F   United Kingdom London  \n",
       "2 Katherine 78   TRUE F   United States  New York\n",
       "3 Kim       56   TRUE M   Korea          Seoul   \n",
       "4 Nicolas   45  FALSE M   France         NA      \n",
       "5 Yamamoto  12  FALSE M   Japan          NA      \n",
       "6 Zakhaev   NA     NA NA  NA             Moscow  "
      ]
     },
     "metadata": {},
     "output_type": "display_data"
    },
    {
     "data": {
      "text/html": [
       "<table class=\"dataframe\">\n",
       "<caption>A data.frame: 3 × 6</caption>\n",
       "<thead>\n",
       "\t<tr><th scope=col>NAME</th><th scope=col>AGE</th><th scope=col>SMOKE</th><th scope=col>SEX</th><th scope=col>NATIONALITY</th><th scope=col>CITY</th></tr>\n",
       "\t<tr><th scope=col>&lt;chr&gt;</th><th scope=col>&lt;dbl&gt;</th><th scope=col>&lt;lgl&gt;</th><th scope=col>&lt;chr&gt;</th><th scope=col>&lt;chr&gt;</th><th scope=col>&lt;chr&gt;</th></tr>\n",
       "</thead>\n",
       "<tbody>\n",
       "\t<tr><td>James    </td><td>34</td><td>FALSE</td><td>F</td><td>United Kingdom</td><td>London  </td></tr>\n",
       "\t<tr><td>Katherine</td><td>78</td><td> TRUE</td><td>F</td><td>United States </td><td>New York</td></tr>\n",
       "\t<tr><td>Kim      </td><td>56</td><td> TRUE</td><td>M</td><td>Korea         </td><td>Seoul   </td></tr>\n",
       "</tbody>\n",
       "</table>\n"
      ],
      "text/latex": [
       "A data.frame: 3 × 6\n",
       "\\begin{tabular}{llllll}\n",
       " NAME & AGE & SMOKE & SEX & NATIONALITY & CITY\\\\\n",
       " <chr> & <dbl> & <lgl> & <chr> & <chr> & <chr>\\\\\n",
       "\\hline\n",
       "\t James     & 34 & FALSE & F & United Kingdom & London  \\\\\n",
       "\t Katherine & 78 &  TRUE & F & United States  & New York\\\\\n",
       "\t Kim       & 56 &  TRUE & M & Korea          & Seoul   \\\\\n",
       "\\end{tabular}\n"
      ],
      "text/markdown": [
       "\n",
       "A data.frame: 3 × 6\n",
       "\n",
       "| NAME &lt;chr&gt; | AGE &lt;dbl&gt; | SMOKE &lt;lgl&gt; | SEX &lt;chr&gt; | NATIONALITY &lt;chr&gt; | CITY &lt;chr&gt; |\n",
       "|---|---|---|---|---|---|\n",
       "| James     | 34 | FALSE | F | United Kingdom | London   |\n",
       "| Katherine | 78 |  TRUE | F | United States  | New York |\n",
       "| Kim       | 56 |  TRUE | M | Korea          | Seoul    |\n",
       "\n"
      ],
      "text/plain": [
       "  NAME      AGE SMOKE SEX NATIONALITY    CITY    \n",
       "1 James     34  FALSE F   United Kingdom London  \n",
       "2 Katherine 78   TRUE F   United States  New York\n",
       "3 Kim       56   TRUE M   Korea          Seoul   "
      ]
     },
     "metadata": {},
     "output_type": "display_data"
    },
    {
     "data": {
      "text/html": [
       "<table class=\"dataframe\">\n",
       "<caption>A data.frame: 5 × 6</caption>\n",
       "<thead>\n",
       "\t<tr><th scope=col>NAME</th><th scope=col>AGE</th><th scope=col>SMOKE</th><th scope=col>SEX</th><th scope=col>NATIONALITY</th><th scope=col>CITY</th></tr>\n",
       "\t<tr><th scope=col>&lt;chr&gt;</th><th scope=col>&lt;dbl&gt;</th><th scope=col>&lt;lgl&gt;</th><th scope=col>&lt;chr&gt;</th><th scope=col>&lt;chr&gt;</th><th scope=col>&lt;chr&gt;</th></tr>\n",
       "</thead>\n",
       "<tbody>\n",
       "\t<tr><td>James    </td><td>34</td><td>FALSE</td><td>F</td><td>United Kingdom</td><td>London  </td></tr>\n",
       "\t<tr><td>Katherine</td><td>78</td><td> TRUE</td><td>F</td><td>United States </td><td>New York</td></tr>\n",
       "\t<tr><td>Kim      </td><td>56</td><td> TRUE</td><td>M</td><td>Korea         </td><td>Seoul   </td></tr>\n",
       "\t<tr><td>Nicolas  </td><td>45</td><td>FALSE</td><td>M</td><td>France        </td><td>NA      </td></tr>\n",
       "\t<tr><td>Yamamoto </td><td>12</td><td>FALSE</td><td>M</td><td>Japan         </td><td>NA      </td></tr>\n",
       "</tbody>\n",
       "</table>\n"
      ],
      "text/latex": [
       "A data.frame: 5 × 6\n",
       "\\begin{tabular}{llllll}\n",
       " NAME & AGE & SMOKE & SEX & NATIONALITY & CITY\\\\\n",
       " <chr> & <dbl> & <lgl> & <chr> & <chr> & <chr>\\\\\n",
       "\\hline\n",
       "\t James     & 34 & FALSE & F & United Kingdom & London  \\\\\n",
       "\t Katherine & 78 &  TRUE & F & United States  & New York\\\\\n",
       "\t Kim       & 56 &  TRUE & M & Korea          & Seoul   \\\\\n",
       "\t Nicolas   & 45 & FALSE & M & France         & NA      \\\\\n",
       "\t Yamamoto  & 12 & FALSE & M & Japan          & NA      \\\\\n",
       "\\end{tabular}\n"
      ],
      "text/markdown": [
       "\n",
       "A data.frame: 5 × 6\n",
       "\n",
       "| NAME &lt;chr&gt; | AGE &lt;dbl&gt; | SMOKE &lt;lgl&gt; | SEX &lt;chr&gt; | NATIONALITY &lt;chr&gt; | CITY &lt;chr&gt; |\n",
       "|---|---|---|---|---|---|\n",
       "| James     | 34 | FALSE | F | United Kingdom | London   |\n",
       "| Katherine | 78 |  TRUE | F | United States  | New York |\n",
       "| Kim       | 56 |  TRUE | M | Korea          | Seoul    |\n",
       "| Nicolas   | 45 | FALSE | M | France         | NA       |\n",
       "| Yamamoto  | 12 | FALSE | M | Japan          | NA       |\n",
       "\n"
      ],
      "text/plain": [
       "  NAME      AGE SMOKE SEX NATIONALITY    CITY    \n",
       "1 James     34  FALSE F   United Kingdom London  \n",
       "2 Katherine 78   TRUE F   United States  New York\n",
       "3 Kim       56   TRUE M   Korea          Seoul   \n",
       "4 Nicolas   45  FALSE M   France         NA      \n",
       "5 Yamamoto  12  FALSE M   Japan          NA      "
      ]
     },
     "metadata": {},
     "output_type": "display_data"
    },
    {
     "data": {
      "text/html": [
       "<table class=\"dataframe\">\n",
       "<caption>A data.frame: 4 × 6</caption>\n",
       "<thead>\n",
       "\t<tr><th scope=col>NAME</th><th scope=col>AGE</th><th scope=col>SMOKE</th><th scope=col>SEX</th><th scope=col>NATIONALITY</th><th scope=col>CITY</th></tr>\n",
       "\t<tr><th scope=col>&lt;chr&gt;</th><th scope=col>&lt;dbl&gt;</th><th scope=col>&lt;lgl&gt;</th><th scope=col>&lt;chr&gt;</th><th scope=col>&lt;chr&gt;</th><th scope=col>&lt;chr&gt;</th></tr>\n",
       "</thead>\n",
       "<tbody>\n",
       "\t<tr><td>James    </td><td>34</td><td>FALSE</td><td>F </td><td>United Kingdom</td><td>London  </td></tr>\n",
       "\t<tr><td>Katherine</td><td>78</td><td> TRUE</td><td>F </td><td>United States </td><td>New York</td></tr>\n",
       "\t<tr><td>Kim      </td><td>56</td><td> TRUE</td><td>M </td><td>Korea         </td><td>Seoul   </td></tr>\n",
       "\t<tr><td>Zakhaev  </td><td>NA</td><td>   NA</td><td>NA</td><td>NA            </td><td>Moscow  </td></tr>\n",
       "</tbody>\n",
       "</table>\n"
      ],
      "text/latex": [
       "A data.frame: 4 × 6\n",
       "\\begin{tabular}{llllll}\n",
       " NAME & AGE & SMOKE & SEX & NATIONALITY & CITY\\\\\n",
       " <chr> & <dbl> & <lgl> & <chr> & <chr> & <chr>\\\\\n",
       "\\hline\n",
       "\t James     & 34 & FALSE & F  & United Kingdom & London  \\\\\n",
       "\t Katherine & 78 &  TRUE & F  & United States  & New York\\\\\n",
       "\t Kim       & 56 &  TRUE & M  & Korea          & Seoul   \\\\\n",
       "\t Zakhaev   & NA &    NA & NA & NA             & Moscow  \\\\\n",
       "\\end{tabular}\n"
      ],
      "text/markdown": [
       "\n",
       "A data.frame: 4 × 6\n",
       "\n",
       "| NAME &lt;chr&gt; | AGE &lt;dbl&gt; | SMOKE &lt;lgl&gt; | SEX &lt;chr&gt; | NATIONALITY &lt;chr&gt; | CITY &lt;chr&gt; |\n",
       "|---|---|---|---|---|---|\n",
       "| James     | 34 | FALSE | F  | United Kingdom | London   |\n",
       "| Katherine | 78 |  TRUE | F  | United States  | New York |\n",
       "| Kim       | 56 |  TRUE | M  | Korea          | Seoul    |\n",
       "| Zakhaev   | NA |    NA | NA | NA             | Moscow   |\n",
       "\n"
      ],
      "text/plain": [
       "  NAME      AGE SMOKE SEX NATIONALITY    CITY    \n",
       "1 James     34  FALSE F   United Kingdom London  \n",
       "2 Katherine 78   TRUE F   United States  New York\n",
       "3 Kim       56   TRUE M   Korea          Seoul   \n",
       "4 Zakhaev   NA     NA NA  NA             Moscow  "
      ]
     },
     "metadata": {},
     "output_type": "display_data"
    }
   ],
   "source": [
    "merge(df6, df4, all=TRUE)\n",
    "merge(df6, df4, all=FALSE)\n",
    "merge(df6, df4, all.x=TRUE)\n",
    "merge(df6, df4, all.y=TRUE)"
   ]
  }
 ],
 "metadata": {
  "kernelspec": {
   "display_name": "R",
   "language": "R",
   "name": "r"
  },
  "language_info": {
   "codemirror_mode": "r",
   "file_extension": ".r",
   "mimetype": "text/x-r-source",
   "name": "R",
   "pygments_lexer": "r",
   "version": "4.2.2"
  }
 },
 "nbformat": 4,
 "nbformat_minor": 5
}
