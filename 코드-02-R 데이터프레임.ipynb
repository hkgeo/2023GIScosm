{
 "cells": [
  {
   "cell_type": "markdown",
   "id": "5b2e73be-4df6-4db9-9df0-cac9243b77a3",
   "metadata": {},
   "source": [
    "## 02. 데이터프레임\n",
    "\n",
    "데이터프레임이란?: 길이가 같은 벡터들을 열 원소로 갖는 2차원 객체\n",
    "\n",
    "이 가이드의 실습을 위해서는 dplyr, readxl, writexl패키지 설치 및 불러오기가 필요합니다.r"
   ]
  },
  {
   "cell_type": "code",
   "execution_count": 2,
   "id": "53902e18-26ed-4f8d-894c-b46f891f88d2",
   "metadata": {
    "tags": []
   },
   "outputs": [
    {
     "name": "stderr",
     "output_type": "stream",
     "text": [
      "\n",
      "Attaching package: 'dplyr'\n",
      "\n",
      "\n",
      "The following objects are masked from 'package:stats':\n",
      "\n",
      "    filter, lag\n",
      "\n",
      "\n",
      "The following objects are masked from 'package:base':\n",
      "\n",
      "    intersect, setdiff, setequal, union\n",
      "\n",
      "\n"
     ]
    }
   ],
   "source": [
    "library(dplyr)\n",
    "library(readxl)\n",
    "library(writexl)"
   ]
  },
  {
   "cell_type": "code",
   "execution_count": 3,
   "id": "90a946e7-ca6b-420f-854c-026e6c664274",
   "metadata": {
    "tags": []
   },
   "outputs": [],
   "source": [
    "df1<-read.csv(\"./데이터/03-df01.csv\")        #csv파일 불러오기\n",
    "df2<-read_excel(\"./데이터/03-df02.xlsx\")     #xlsx파일 불러오기\n",
    "df3<-read.csv(\"./데이터/03-df03.csv\")\n",
    "df4<-read.csv(\"./데이터/03-df04.csv\")"
   ]
  },
  {
   "cell_type": "code",
   "execution_count": 7,
   "id": "d4bdc7b3-9af3-488d-81f3-fc8e1cdcf27d",
   "metadata": {
    "tags": []
   },
   "outputs": [
    {
     "data": {
      "text/html": [
       "<table class=\"dataframe\">\n",
       "<caption>A data.frame: 3 × 3</caption>\n",
       "<thead>\n",
       "\t<tr><th scope=col>NAME</th><th scope=col>AGE</th><th scope=col>SMOKE</th></tr>\n",
       "\t<tr><th scope=col>&lt;chr&gt;</th><th scope=col>&lt;int&gt;</th><th scope=col>&lt;lgl&gt;</th></tr>\n",
       "</thead>\n",
       "<tbody>\n",
       "\t<tr><td>Kim     </td><td>56</td><td> TRUE</td></tr>\n",
       "\t<tr><td>James   </td><td>34</td><td>FALSE</td></tr>\n",
       "\t<tr><td>Yamamoto</td><td>12</td><td>FALSE</td></tr>\n",
       "</tbody>\n",
       "</table>\n"
      ],
      "text/latex": [
       "A data.frame: 3 × 3\n",
       "\\begin{tabular}{lll}\n",
       " NAME & AGE & SMOKE\\\\\n",
       " <chr> & <int> & <lgl>\\\\\n",
       "\\hline\n",
       "\t Kim      & 56 &  TRUE\\\\\n",
       "\t James    & 34 & FALSE\\\\\n",
       "\t Yamamoto & 12 & FALSE\\\\\n",
       "\\end{tabular}\n"
      ],
      "text/markdown": [
       "\n",
       "A data.frame: 3 × 3\n",
       "\n",
       "| NAME &lt;chr&gt; | AGE &lt;int&gt; | SMOKE &lt;lgl&gt; |\n",
       "|---|---|---|\n",
       "| Kim      | 56 |  TRUE |\n",
       "| James    | 34 | FALSE |\n",
       "| Yamamoto | 12 | FALSE |\n",
       "\n"
      ],
      "text/plain": [
       "  NAME     AGE SMOKE\n",
       "1 Kim      56   TRUE\n",
       "2 James    34  FALSE\n",
       "3 Yamamoto 12  FALSE"
      ]
     },
     "metadata": {},
     "output_type": "display_data"
    },
    {
     "data": {
      "text/html": [
       "<table class=\"dataframe\">\n",
       "<caption>A tibble: 2 × 3</caption>\n",
       "<thead>\n",
       "\t<tr><th scope=col>NAME</th><th scope=col>AGE</th><th scope=col>SMOKE</th></tr>\n",
       "\t<tr><th scope=col>&lt;chr&gt;</th><th scope=col>&lt;dbl&gt;</th><th scope=col>&lt;lgl&gt;</th></tr>\n",
       "</thead>\n",
       "<tbody>\n",
       "\t<tr><td>Katherine</td><td>78</td><td> TRUE</td></tr>\n",
       "\t<tr><td>Nicolas  </td><td>45</td><td>FALSE</td></tr>\n",
       "</tbody>\n",
       "</table>\n"
      ],
      "text/latex": [
       "A tibble: 2 × 3\n",
       "\\begin{tabular}{lll}\n",
       " NAME & AGE & SMOKE\\\\\n",
       " <chr> & <dbl> & <lgl>\\\\\n",
       "\\hline\n",
       "\t Katherine & 78 &  TRUE\\\\\n",
       "\t Nicolas   & 45 & FALSE\\\\\n",
       "\\end{tabular}\n"
      ],
      "text/markdown": [
       "\n",
       "A tibble: 2 × 3\n",
       "\n",
       "| NAME &lt;chr&gt; | AGE &lt;dbl&gt; | SMOKE &lt;lgl&gt; |\n",
       "|---|---|---|\n",
       "| Katherine | 78 |  TRUE |\n",
       "| Nicolas   | 45 | FALSE |\n",
       "\n"
      ],
      "text/plain": [
       "  NAME      AGE SMOKE\n",
       "1 Katherine 78   TRUE\n",
       "2 Nicolas   45  FALSE"
      ]
     },
     "metadata": {},
     "output_type": "display_data"
    },
    {
     "data": {
      "text/html": [
       "<table class=\"dataframe\">\n",
       "<caption>A data.frame: 5 × 2</caption>\n",
       "<thead>\n",
       "\t<tr><th scope=col>SEX</th><th scope=col>NATIONALITY</th></tr>\n",
       "\t<tr><th scope=col>&lt;chr&gt;</th><th scope=col>&lt;chr&gt;</th></tr>\n",
       "</thead>\n",
       "<tbody>\n",
       "\t<tr><td>M</td><td>Korea         </td></tr>\n",
       "\t<tr><td>F</td><td>United Kingdom</td></tr>\n",
       "\t<tr><td>M</td><td>Japan         </td></tr>\n",
       "\t<tr><td>F</td><td>United States </td></tr>\n",
       "\t<tr><td>M</td><td>France        </td></tr>\n",
       "</tbody>\n",
       "</table>\n"
      ],
      "text/latex": [
       "A data.frame: 5 × 2\n",
       "\\begin{tabular}{ll}\n",
       " SEX & NATIONALITY\\\\\n",
       " <chr> & <chr>\\\\\n",
       "\\hline\n",
       "\t M & Korea         \\\\\n",
       "\t F & United Kingdom\\\\\n",
       "\t M & Japan         \\\\\n",
       "\t F & United States \\\\\n",
       "\t M & France        \\\\\n",
       "\\end{tabular}\n"
      ],
      "text/markdown": [
       "\n",
       "A data.frame: 5 × 2\n",
       "\n",
       "| SEX &lt;chr&gt; | NATIONALITY &lt;chr&gt; |\n",
       "|---|---|\n",
       "| M | Korea          |\n",
       "| F | United Kingdom |\n",
       "| M | Japan          |\n",
       "| F | United States  |\n",
       "| M | France         |\n",
       "\n"
      ],
      "text/plain": [
       "  SEX NATIONALITY   \n",
       "1 M   Korea         \n",
       "2 F   United Kingdom\n",
       "3 M   Japan         \n",
       "4 F   United States \n",
       "5 M   France        "
      ]
     },
     "metadata": {},
     "output_type": "display_data"
    },
    {
     "data": {
      "text/html": [
       "<table class=\"dataframe\">\n",
       "<caption>A data.frame: 4 × 2</caption>\n",
       "<thead>\n",
       "\t<tr><th scope=col>CITY</th><th scope=col>NAME</th></tr>\n",
       "\t<tr><th scope=col>&lt;chr&gt;</th><th scope=col>&lt;chr&gt;</th></tr>\n",
       "</thead>\n",
       "<tbody>\n",
       "\t<tr><td>New York</td><td>Katherine</td></tr>\n",
       "\t<tr><td>Seoul   </td><td>Kim      </td></tr>\n",
       "\t<tr><td>London  </td><td>James    </td></tr>\n",
       "\t<tr><td>Moscow  </td><td>Zakhaev  </td></tr>\n",
       "</tbody>\n",
       "</table>\n"
      ],
      "text/latex": [
       "A data.frame: 4 × 2\n",
       "\\begin{tabular}{ll}\n",
       " CITY & NAME\\\\\n",
       " <chr> & <chr>\\\\\n",
       "\\hline\n",
       "\t New York & Katherine\\\\\n",
       "\t Seoul    & Kim      \\\\\n",
       "\t London   & James    \\\\\n",
       "\t Moscow   & Zakhaev  \\\\\n",
       "\\end{tabular}\n"
      ],
      "text/markdown": [
       "\n",
       "A data.frame: 4 × 2\n",
       "\n",
       "| CITY &lt;chr&gt; | NAME &lt;chr&gt; |\n",
       "|---|---|\n",
       "| New York | Katherine |\n",
       "| Seoul    | Kim       |\n",
       "| London   | James     |\n",
       "| Moscow   | Zakhaev   |\n",
       "\n"
      ],
      "text/plain": [
       "  CITY     NAME     \n",
       "1 New York Katherine\n",
       "2 Seoul    Kim      \n",
       "3 London   James    \n",
       "4 Moscow   Zakhaev  "
      ]
     },
     "metadata": {},
     "output_type": "display_data"
    }
   ],
   "source": [
    "df1;df2;df3;df4"
   ]
  },
  {
   "cell_type": "code",
   "execution_count": 8,
   "id": "36ccd2f9-6e3a-474c-bcac-d6baf4b357c7",
   "metadata": {
    "tags": []
   },
   "outputs": [],
   "source": [
    "df5<-rbind(df1, df2)\n",
    "df6<-cbind(df5, df3)"
   ]
  },
  {
   "cell_type": "code",
   "execution_count": 9,
   "id": "0ebb0987-f964-4970-b269-13f7f72cf3ae",
   "metadata": {
    "tags": []
   },
   "outputs": [
    {
     "data": {
      "text/html": [
       "<table class=\"dataframe\">\n",
       "<caption>A data.frame: 5 × 3</caption>\n",
       "<thead>\n",
       "\t<tr><th scope=col>NAME</th><th scope=col>AGE</th><th scope=col>SMOKE</th></tr>\n",
       "\t<tr><th scope=col>&lt;chr&gt;</th><th scope=col>&lt;dbl&gt;</th><th scope=col>&lt;lgl&gt;</th></tr>\n",
       "</thead>\n",
       "<tbody>\n",
       "\t<tr><td>Kim      </td><td>56</td><td> TRUE</td></tr>\n",
       "\t<tr><td>James    </td><td>34</td><td>FALSE</td></tr>\n",
       "\t<tr><td>Yamamoto </td><td>12</td><td>FALSE</td></tr>\n",
       "\t<tr><td>Katherine</td><td>78</td><td> TRUE</td></tr>\n",
       "\t<tr><td>Nicolas  </td><td>45</td><td>FALSE</td></tr>\n",
       "</tbody>\n",
       "</table>\n"
      ],
      "text/latex": [
       "A data.frame: 5 × 3\n",
       "\\begin{tabular}{lll}\n",
       " NAME & AGE & SMOKE\\\\\n",
       " <chr> & <dbl> & <lgl>\\\\\n",
       "\\hline\n",
       "\t Kim       & 56 &  TRUE\\\\\n",
       "\t James     & 34 & FALSE\\\\\n",
       "\t Yamamoto  & 12 & FALSE\\\\\n",
       "\t Katherine & 78 &  TRUE\\\\\n",
       "\t Nicolas   & 45 & FALSE\\\\\n",
       "\\end{tabular}\n"
      ],
      "text/markdown": [
       "\n",
       "A data.frame: 5 × 3\n",
       "\n",
       "| NAME &lt;chr&gt; | AGE &lt;dbl&gt; | SMOKE &lt;lgl&gt; |\n",
       "|---|---|---|\n",
       "| Kim       | 56 |  TRUE |\n",
       "| James     | 34 | FALSE |\n",
       "| Yamamoto  | 12 | FALSE |\n",
       "| Katherine | 78 |  TRUE |\n",
       "| Nicolas   | 45 | FALSE |\n",
       "\n"
      ],
      "text/plain": [
       "  NAME      AGE SMOKE\n",
       "1 Kim       56   TRUE\n",
       "2 James     34  FALSE\n",
       "3 Yamamoto  12  FALSE\n",
       "4 Katherine 78   TRUE\n",
       "5 Nicolas   45  FALSE"
      ]
     },
     "metadata": {},
     "output_type": "display_data"
    },
    {
     "data": {
      "text/html": [
       "<table class=\"dataframe\">\n",
       "<caption>A data.frame: 5 × 5</caption>\n",
       "<thead>\n",
       "\t<tr><th scope=col>NAME</th><th scope=col>AGE</th><th scope=col>SMOKE</th><th scope=col>SEX</th><th scope=col>NATIONALITY</th></tr>\n",
       "\t<tr><th scope=col>&lt;chr&gt;</th><th scope=col>&lt;dbl&gt;</th><th scope=col>&lt;lgl&gt;</th><th scope=col>&lt;chr&gt;</th><th scope=col>&lt;chr&gt;</th></tr>\n",
       "</thead>\n",
       "<tbody>\n",
       "\t<tr><td>Kim      </td><td>56</td><td> TRUE</td><td>M</td><td>Korea         </td></tr>\n",
       "\t<tr><td>James    </td><td>34</td><td>FALSE</td><td>F</td><td>United Kingdom</td></tr>\n",
       "\t<tr><td>Yamamoto </td><td>12</td><td>FALSE</td><td>M</td><td>Japan         </td></tr>\n",
       "\t<tr><td>Katherine</td><td>78</td><td> TRUE</td><td>F</td><td>United States </td></tr>\n",
       "\t<tr><td>Nicolas  </td><td>45</td><td>FALSE</td><td>M</td><td>France        </td></tr>\n",
       "</tbody>\n",
       "</table>\n"
      ],
      "text/latex": [
       "A data.frame: 5 × 5\n",
       "\\begin{tabular}{lllll}\n",
       " NAME & AGE & SMOKE & SEX & NATIONALITY\\\\\n",
       " <chr> & <dbl> & <lgl> & <chr> & <chr>\\\\\n",
       "\\hline\n",
       "\t Kim       & 56 &  TRUE & M & Korea         \\\\\n",
       "\t James     & 34 & FALSE & F & United Kingdom\\\\\n",
       "\t Yamamoto  & 12 & FALSE & M & Japan         \\\\\n",
       "\t Katherine & 78 &  TRUE & F & United States \\\\\n",
       "\t Nicolas   & 45 & FALSE & M & France        \\\\\n",
       "\\end{tabular}\n"
      ],
      "text/markdown": [
       "\n",
       "A data.frame: 5 × 5\n",
       "\n",
       "| NAME &lt;chr&gt; | AGE &lt;dbl&gt; | SMOKE &lt;lgl&gt; | SEX &lt;chr&gt; | NATIONALITY &lt;chr&gt; |\n",
       "|---|---|---|---|---|\n",
       "| Kim       | 56 |  TRUE | M | Korea          |\n",
       "| James     | 34 | FALSE | F | United Kingdom |\n",
       "| Yamamoto  | 12 | FALSE | M | Japan          |\n",
       "| Katherine | 78 |  TRUE | F | United States  |\n",
       "| Nicolas   | 45 | FALSE | M | France         |\n",
       "\n"
      ],
      "text/plain": [
       "  NAME      AGE SMOKE SEX NATIONALITY   \n",
       "1 Kim       56   TRUE M   Korea         \n",
       "2 James     34  FALSE F   United Kingdom\n",
       "3 Yamamoto  12  FALSE M   Japan         \n",
       "4 Katherine 78   TRUE F   United States \n",
       "5 Nicolas   45  FALSE M   France        "
      ]
     },
     "metadata": {},
     "output_type": "display_data"
    }
   ],
   "source": [
    "df5\n",
    "df6"
   ]
  },
  {
   "cell_type": "code",
   "execution_count": 35,
   "id": "9411506b-2fb6-4213-ad1c-6bf0efa46197",
   "metadata": {
    "tags": []
   },
   "outputs": [
    {
     "data": {
      "text/html": [
       "<table class=\"dataframe\">\n",
       "<caption>A data.frame: 6 × 6</caption>\n",
       "<thead>\n",
       "\t<tr><th scope=col>NAME</th><th scope=col>AGE</th><th scope=col>SMOKE</th><th scope=col>SEX</th><th scope=col>NATIONALITY</th><th scope=col>CITY</th></tr>\n",
       "\t<tr><th scope=col>&lt;chr&gt;</th><th scope=col>&lt;dbl&gt;</th><th scope=col>&lt;lgl&gt;</th><th scope=col>&lt;chr&gt;</th><th scope=col>&lt;chr&gt;</th><th scope=col>&lt;chr&gt;</th></tr>\n",
       "</thead>\n",
       "<tbody>\n",
       "\t<tr><td>James    </td><td>34</td><td>FALSE</td><td>F </td><td>United Kingdom</td><td>London  </td></tr>\n",
       "\t<tr><td>Katherine</td><td>78</td><td> TRUE</td><td>F </td><td>United States </td><td>New York</td></tr>\n",
       "\t<tr><td>Kim      </td><td>56</td><td> TRUE</td><td>M </td><td>Korea         </td><td>Seoul   </td></tr>\n",
       "\t<tr><td>Nicolas  </td><td>45</td><td>FALSE</td><td>M </td><td>France        </td><td>NA      </td></tr>\n",
       "\t<tr><td>Yamamoto </td><td>12</td><td>FALSE</td><td>M </td><td>Japan         </td><td>NA      </td></tr>\n",
       "\t<tr><td>Zakhaev  </td><td>NA</td><td>   NA</td><td>NA</td><td>NA            </td><td>Moscow  </td></tr>\n",
       "</tbody>\n",
       "</table>\n"
      ],
      "text/latex": [
       "A data.frame: 6 × 6\n",
       "\\begin{tabular}{llllll}\n",
       " NAME & AGE & SMOKE & SEX & NATIONALITY & CITY\\\\\n",
       " <chr> & <dbl> & <lgl> & <chr> & <chr> & <chr>\\\\\n",
       "\\hline\n",
       "\t James     & 34 & FALSE & F  & United Kingdom & London  \\\\\n",
       "\t Katherine & 78 &  TRUE & F  & United States  & New York\\\\\n",
       "\t Kim       & 56 &  TRUE & M  & Korea          & Seoul   \\\\\n",
       "\t Nicolas   & 45 & FALSE & M  & France         & NA      \\\\\n",
       "\t Yamamoto  & 12 & FALSE & M  & Japan          & NA      \\\\\n",
       "\t Zakhaev   & NA &    NA & NA & NA             & Moscow  \\\\\n",
       "\\end{tabular}\n"
      ],
      "text/markdown": [
       "\n",
       "A data.frame: 6 × 6\n",
       "\n",
       "| NAME &lt;chr&gt; | AGE &lt;dbl&gt; | SMOKE &lt;lgl&gt; | SEX &lt;chr&gt; | NATIONALITY &lt;chr&gt; | CITY &lt;chr&gt; |\n",
       "|---|---|---|---|---|---|\n",
       "| James     | 34 | FALSE | F  | United Kingdom | London   |\n",
       "| Katherine | 78 |  TRUE | F  | United States  | New York |\n",
       "| Kim       | 56 |  TRUE | M  | Korea          | Seoul    |\n",
       "| Nicolas   | 45 | FALSE | M  | France         | NA       |\n",
       "| Yamamoto  | 12 | FALSE | M  | Japan          | NA       |\n",
       "| Zakhaev   | NA |    NA | NA | NA             | Moscow   |\n",
       "\n"
      ],
      "text/plain": [
       "  NAME      AGE SMOKE SEX NATIONALITY    CITY    \n",
       "1 James     34  FALSE F   United Kingdom London  \n",
       "2 Katherine 78   TRUE F   United States  New York\n",
       "3 Kim       56   TRUE M   Korea          Seoul   \n",
       "4 Nicolas   45  FALSE M   France         NA      \n",
       "5 Yamamoto  12  FALSE M   Japan          NA      \n",
       "6 Zakhaev   NA     NA NA  NA             Moscow  "
      ]
     },
     "metadata": {},
     "output_type": "display_data"
    },
    {
     "data": {
      "text/html": [
       "<table class=\"dataframe\">\n",
       "<caption>A data.frame: 3 × 6</caption>\n",
       "<thead>\n",
       "\t<tr><th scope=col>NAME</th><th scope=col>AGE</th><th scope=col>SMOKE</th><th scope=col>SEX</th><th scope=col>NATIONALITY</th><th scope=col>CITY</th></tr>\n",
       "\t<tr><th scope=col>&lt;chr&gt;</th><th scope=col>&lt;dbl&gt;</th><th scope=col>&lt;lgl&gt;</th><th scope=col>&lt;chr&gt;</th><th scope=col>&lt;chr&gt;</th><th scope=col>&lt;chr&gt;</th></tr>\n",
       "</thead>\n",
       "<tbody>\n",
       "\t<tr><td>James    </td><td>34</td><td>FALSE</td><td>F</td><td>United Kingdom</td><td>London  </td></tr>\n",
       "\t<tr><td>Katherine</td><td>78</td><td> TRUE</td><td>F</td><td>United States </td><td>New York</td></tr>\n",
       "\t<tr><td>Kim      </td><td>56</td><td> TRUE</td><td>M</td><td>Korea         </td><td>Seoul   </td></tr>\n",
       "</tbody>\n",
       "</table>\n"
      ],
      "text/latex": [
       "A data.frame: 3 × 6\n",
       "\\begin{tabular}{llllll}\n",
       " NAME & AGE & SMOKE & SEX & NATIONALITY & CITY\\\\\n",
       " <chr> & <dbl> & <lgl> & <chr> & <chr> & <chr>\\\\\n",
       "\\hline\n",
       "\t James     & 34 & FALSE & F & United Kingdom & London  \\\\\n",
       "\t Katherine & 78 &  TRUE & F & United States  & New York\\\\\n",
       "\t Kim       & 56 &  TRUE & M & Korea          & Seoul   \\\\\n",
       "\\end{tabular}\n"
      ],
      "text/markdown": [
       "\n",
       "A data.frame: 3 × 6\n",
       "\n",
       "| NAME &lt;chr&gt; | AGE &lt;dbl&gt; | SMOKE &lt;lgl&gt; | SEX &lt;chr&gt; | NATIONALITY &lt;chr&gt; | CITY &lt;chr&gt; |\n",
       "|---|---|---|---|---|---|\n",
       "| James     | 34 | FALSE | F | United Kingdom | London   |\n",
       "| Katherine | 78 |  TRUE | F | United States  | New York |\n",
       "| Kim       | 56 |  TRUE | M | Korea          | Seoul    |\n",
       "\n"
      ],
      "text/plain": [
       "  NAME      AGE SMOKE SEX NATIONALITY    CITY    \n",
       "1 James     34  FALSE F   United Kingdom London  \n",
       "2 Katherine 78   TRUE F   United States  New York\n",
       "3 Kim       56   TRUE M   Korea          Seoul   "
      ]
     },
     "metadata": {},
     "output_type": "display_data"
    },
    {
     "data": {
      "text/html": [
       "<table class=\"dataframe\">\n",
       "<caption>A data.frame: 5 × 6</caption>\n",
       "<thead>\n",
       "\t<tr><th scope=col>NAME</th><th scope=col>AGE</th><th scope=col>SMOKE</th><th scope=col>SEX</th><th scope=col>NATIONALITY</th><th scope=col>CITY</th></tr>\n",
       "\t<tr><th scope=col>&lt;chr&gt;</th><th scope=col>&lt;dbl&gt;</th><th scope=col>&lt;lgl&gt;</th><th scope=col>&lt;chr&gt;</th><th scope=col>&lt;chr&gt;</th><th scope=col>&lt;chr&gt;</th></tr>\n",
       "</thead>\n",
       "<tbody>\n",
       "\t<tr><td>James    </td><td>34</td><td>FALSE</td><td>F</td><td>United Kingdom</td><td>London  </td></tr>\n",
       "\t<tr><td>Katherine</td><td>78</td><td> TRUE</td><td>F</td><td>United States </td><td>New York</td></tr>\n",
       "\t<tr><td>Kim      </td><td>56</td><td> TRUE</td><td>M</td><td>Korea         </td><td>Seoul   </td></tr>\n",
       "\t<tr><td>Nicolas  </td><td>45</td><td>FALSE</td><td>M</td><td>France        </td><td>NA      </td></tr>\n",
       "\t<tr><td>Yamamoto </td><td>12</td><td>FALSE</td><td>M</td><td>Japan         </td><td>NA      </td></tr>\n",
       "</tbody>\n",
       "</table>\n"
      ],
      "text/latex": [
       "A data.frame: 5 × 6\n",
       "\\begin{tabular}{llllll}\n",
       " NAME & AGE & SMOKE & SEX & NATIONALITY & CITY\\\\\n",
       " <chr> & <dbl> & <lgl> & <chr> & <chr> & <chr>\\\\\n",
       "\\hline\n",
       "\t James     & 34 & FALSE & F & United Kingdom & London  \\\\\n",
       "\t Katherine & 78 &  TRUE & F & United States  & New York\\\\\n",
       "\t Kim       & 56 &  TRUE & M & Korea          & Seoul   \\\\\n",
       "\t Nicolas   & 45 & FALSE & M & France         & NA      \\\\\n",
       "\t Yamamoto  & 12 & FALSE & M & Japan          & NA      \\\\\n",
       "\\end{tabular}\n"
      ],
      "text/markdown": [
       "\n",
       "A data.frame: 5 × 6\n",
       "\n",
       "| NAME &lt;chr&gt; | AGE &lt;dbl&gt; | SMOKE &lt;lgl&gt; | SEX &lt;chr&gt; | NATIONALITY &lt;chr&gt; | CITY &lt;chr&gt; |\n",
       "|---|---|---|---|---|---|\n",
       "| James     | 34 | FALSE | F | United Kingdom | London   |\n",
       "| Katherine | 78 |  TRUE | F | United States  | New York |\n",
       "| Kim       | 56 |  TRUE | M | Korea          | Seoul    |\n",
       "| Nicolas   | 45 | FALSE | M | France         | NA       |\n",
       "| Yamamoto  | 12 | FALSE | M | Japan          | NA       |\n",
       "\n"
      ],
      "text/plain": [
       "  NAME      AGE SMOKE SEX NATIONALITY    CITY    \n",
       "1 James     34  FALSE F   United Kingdom London  \n",
       "2 Katherine 78   TRUE F   United States  New York\n",
       "3 Kim       56   TRUE M   Korea          Seoul   \n",
       "4 Nicolas   45  FALSE M   France         NA      \n",
       "5 Yamamoto  12  FALSE M   Japan          NA      "
      ]
     },
     "metadata": {},
     "output_type": "display_data"
    },
    {
     "data": {
      "text/html": [
       "<table class=\"dataframe\">\n",
       "<caption>A data.frame: 4 × 6</caption>\n",
       "<thead>\n",
       "\t<tr><th scope=col>NAME</th><th scope=col>AGE</th><th scope=col>SMOKE</th><th scope=col>SEX</th><th scope=col>NATIONALITY</th><th scope=col>CITY</th></tr>\n",
       "\t<tr><th scope=col>&lt;chr&gt;</th><th scope=col>&lt;dbl&gt;</th><th scope=col>&lt;lgl&gt;</th><th scope=col>&lt;chr&gt;</th><th scope=col>&lt;chr&gt;</th><th scope=col>&lt;chr&gt;</th></tr>\n",
       "</thead>\n",
       "<tbody>\n",
       "\t<tr><td>James    </td><td>34</td><td>FALSE</td><td>F </td><td>United Kingdom</td><td>London  </td></tr>\n",
       "\t<tr><td>Katherine</td><td>78</td><td> TRUE</td><td>F </td><td>United States </td><td>New York</td></tr>\n",
       "\t<tr><td>Kim      </td><td>56</td><td> TRUE</td><td>M </td><td>Korea         </td><td>Seoul   </td></tr>\n",
       "\t<tr><td>Zakhaev  </td><td>NA</td><td>   NA</td><td>NA</td><td>NA            </td><td>Moscow  </td></tr>\n",
       "</tbody>\n",
       "</table>\n"
      ],
      "text/latex": [
       "A data.frame: 4 × 6\n",
       "\\begin{tabular}{llllll}\n",
       " NAME & AGE & SMOKE & SEX & NATIONALITY & CITY\\\\\n",
       " <chr> & <dbl> & <lgl> & <chr> & <chr> & <chr>\\\\\n",
       "\\hline\n",
       "\t James     & 34 & FALSE & F  & United Kingdom & London  \\\\\n",
       "\t Katherine & 78 &  TRUE & F  & United States  & New York\\\\\n",
       "\t Kim       & 56 &  TRUE & M  & Korea          & Seoul   \\\\\n",
       "\t Zakhaev   & NA &    NA & NA & NA             & Moscow  \\\\\n",
       "\\end{tabular}\n"
      ],
      "text/markdown": [
       "\n",
       "A data.frame: 4 × 6\n",
       "\n",
       "| NAME &lt;chr&gt; | AGE &lt;dbl&gt; | SMOKE &lt;lgl&gt; | SEX &lt;chr&gt; | NATIONALITY &lt;chr&gt; | CITY &lt;chr&gt; |\n",
       "|---|---|---|---|---|---|\n",
       "| James     | 34 | FALSE | F  | United Kingdom | London   |\n",
       "| Katherine | 78 |  TRUE | F  | United States  | New York |\n",
       "| Kim       | 56 |  TRUE | M  | Korea          | Seoul    |\n",
       "| Zakhaev   | NA |    NA | NA | NA             | Moscow   |\n",
       "\n"
      ],
      "text/plain": [
       "  NAME      AGE SMOKE SEX NATIONALITY    CITY    \n",
       "1 James     34  FALSE F   United Kingdom London  \n",
       "2 Katherine 78   TRUE F   United States  New York\n",
       "3 Kim       56   TRUE M   Korea          Seoul   \n",
       "4 Zakhaev   NA     NA NA  NA             Moscow  "
      ]
     },
     "metadata": {},
     "output_type": "display_data"
    }
   ],
   "source": [
    "merge(df6, df4, all=TRUE)\n",
    "merge(df6, df4, all=FALSE)\n",
    "merge(df6, df4, all.x=TRUE)\n",
    "merge(df6, df4, all.y=TRUE)"
   ]
  },
  {
   "cell_type": "code",
   "execution_count": 46,
   "id": "5a5cb69f-ba26-4f9e-aa75-4e4f51f046d4",
   "metadata": {
    "tags": []
   },
   "outputs": [],
   "source": [
    "df10<-read.csv(\"./데이터/03-고령인구비율.csv\", fileEncoding='euc-kr')"
   ]
  },
  {
   "cell_type": "code",
   "execution_count": 48,
   "id": "c515aea0-5822-481e-979a-064f414762a4",
   "metadata": {
    "tags": []
   },
   "outputs": [
    {
     "data": {
      "text/html": [
       "<table class=\"dataframe\">\n",
       "<caption>A data.frame: 6 × 5</caption>\n",
       "<thead>\n",
       "\t<tr><th></th><th scope=col>도</th><th scope=col>시군</th><th scope=col>고령인구비율2010</th><th scope=col>고령인구비율2015</th><th scope=col>고령인구비율2020</th></tr>\n",
       "\t<tr><th></th><th scope=col>&lt;chr&gt;</th><th scope=col>&lt;chr&gt;</th><th scope=col>&lt;dbl&gt;</th><th scope=col>&lt;dbl&gt;</th><th scope=col>&lt;dbl&gt;</th></tr>\n",
       "</thead>\n",
       "<tbody>\n",
       "\t<tr><th scope=row>1</th><td>강원도</td><td>춘천시</td><td>13.1</td><td>14.8</td><td>17.9</td></tr>\n",
       "\t<tr><th scope=row>2</th><td>강원도</td><td>원주시</td><td>11.1</td><td>12.3</td><td>15.1</td></tr>\n",
       "\t<tr><th scope=row>3</th><td>강원도</td><td>강릉시</td><td>14.3</td><td>17.2</td><td>21.3</td></tr>\n",
       "\t<tr><th scope=row>4</th><td>강원도</td><td>동해시</td><td>13.2</td><td>15.9</td><td>20.2</td></tr>\n",
       "\t<tr><th scope=row>5</th><td>강원도</td><td>태백시</td><td>14.8</td><td>19.0</td><td>25.2</td></tr>\n",
       "\t<tr><th scope=row>6</th><td>강원도</td><td>속초시</td><td>12.7</td><td>15.2</td><td>19.2</td></tr>\n",
       "</tbody>\n",
       "</table>\n"
      ],
      "text/latex": [
       "A data.frame: 6 × 5\n",
       "\\begin{tabular}{r|lllll}\n",
       "  & 도 & 시군 & 고령인구비율2010 & 고령인구비율2015 & 고령인구비율2020\\\\\n",
       "  & <chr> & <chr> & <dbl> & <dbl> & <dbl>\\\\\n",
       "\\hline\n",
       "\t1 & 강원도 & 춘천시 & 13.1 & 14.8 & 17.9\\\\\n",
       "\t2 & 강원도 & 원주시 & 11.1 & 12.3 & 15.1\\\\\n",
       "\t3 & 강원도 & 강릉시 & 14.3 & 17.2 & 21.3\\\\\n",
       "\t4 & 강원도 & 동해시 & 13.2 & 15.9 & 20.2\\\\\n",
       "\t5 & 강원도 & 태백시 & 14.8 & 19.0 & 25.2\\\\\n",
       "\t6 & 강원도 & 속초시 & 12.7 & 15.2 & 19.2\\\\\n",
       "\\end{tabular}\n"
      ],
      "text/markdown": [
       "\n",
       "A data.frame: 6 × 5\n",
       "\n",
       "| <!--/--> | 도 &lt;chr&gt; | 시군 &lt;chr&gt; | 고령인구비율2010 &lt;dbl&gt; | 고령인구비율2015 &lt;dbl&gt; | 고령인구비율2020 &lt;dbl&gt; |\n",
       "|---|---|---|---|---|---|\n",
       "| 1 | 강원도 | 춘천시 | 13.1 | 14.8 | 17.9 |\n",
       "| 2 | 강원도 | 원주시 | 11.1 | 12.3 | 15.1 |\n",
       "| 3 | 강원도 | 강릉시 | 14.3 | 17.2 | 21.3 |\n",
       "| 4 | 강원도 | 동해시 | 13.2 | 15.9 | 20.2 |\n",
       "| 5 | 강원도 | 태백시 | 14.8 | 19.0 | 25.2 |\n",
       "| 6 | 강원도 | 속초시 | 12.7 | 15.2 | 19.2 |\n",
       "\n"
      ],
      "text/plain": [
       "  도     시군   고령인구비율2010 고령인구비율2015 고령인구비율2020\n",
       "1 강원도 춘천시 13.1             14.8             17.9            \n",
       "2 강원도 원주시 11.1             12.3             15.1            \n",
       "3 강원도 강릉시 14.3             17.2             21.3            \n",
       "4 강원도 동해시 13.2             15.9             20.2            \n",
       "5 강원도 태백시 14.8             19.0             25.2            \n",
       "6 강원도 속초시 12.7             15.2             19.2            "
      ]
     },
     "metadata": {},
     "output_type": "display_data"
    }
   ],
   "source": [
    "head(df10)"
   ]
  },
  {
   "cell_type": "code",
   "execution_count": 49,
   "id": "500881f0-8c8a-45f4-a5b2-79c5a853f5ca",
   "metadata": {
    "tags": []
   },
   "outputs": [
    {
     "data": {
      "text/html": [
       "32"
      ],
      "text/latex": [
       "32"
      ],
      "text/markdown": [
       "32"
      ],
      "text/plain": [
       "[1] 32"
      ]
     },
     "metadata": {},
     "output_type": "display_data"
    },
    {
     "data": {
      "text/html": [
       "9.4"
      ],
      "text/latex": [
       "9.4"
      ],
      "text/markdown": [
       "9.4"
      ],
      "text/plain": [
       "[1] 9.4"
      ]
     },
     "metadata": {},
     "output_type": "display_data"
    },
    {
     "data": {
      "text/html": [
       "1153.7"
      ],
      "text/latex": [
       "1153.7"
      ],
      "text/markdown": [
       "1153.7"
      ],
      "text/plain": [
       "[1] 1153.7"
      ]
     },
     "metadata": {},
     "output_type": "display_data"
    },
    {
     "data": {
      "text/html": [
       "20.9"
      ],
      "text/latex": [
       "20.9"
      ],
      "text/markdown": [
       "20.9"
      ],
      "text/plain": [
       "[1] 20.9"
      ]
     },
     "metadata": {},
     "output_type": "display_data"
    },
    {
     "data": {
      "text/html": [
       "20.9763636363636"
      ],
      "text/latex": [
       "20.9763636363636"
      ],
      "text/markdown": [
       "20.9763636363636"
      ],
      "text/plain": [
       "[1] 20.97636"
      ]
     },
     "metadata": {},
     "output_type": "display_data"
    },
    {
     "data": {
      "text/html": [
       "<style>\n",
       ".dl-inline {width: auto; margin:0; padding: 0}\n",
       ".dl-inline>dt, .dl-inline>dd {float: none; width: auto; display: inline-block}\n",
       ".dl-inline>dt::after {content: \":\\0020\"; padding-right: .5ex}\n",
       ".dl-inline>dt:not(:first-of-type) {padding-left: .5ex}\n",
       "</style><dl class=dl-inline><dt>0%</dt><dd>9.4</dd><dt>25%</dt><dd>16.15</dd><dt>50%</dt><dd>20.9</dd><dt>75%</dt><dd>26.7</dd><dt>100%</dt><dd>32</dd></dl>\n"
      ],
      "text/latex": [
       "\\begin{description*}\n",
       "\\item[0\\textbackslash{}\\%] 9.4\n",
       "\\item[25\\textbackslash{}\\%] 16.15\n",
       "\\item[50\\textbackslash{}\\%] 20.9\n",
       "\\item[75\\textbackslash{}\\%] 26.7\n",
       "\\item[100\\textbackslash{}\\%] 32\n",
       "\\end{description*}\n"
      ],
      "text/markdown": [
       "0%\n",
       ":   9.425%\n",
       ":   16.1550%\n",
       ":   20.975%\n",
       ":   26.7100%\n",
       ":   32\n",
       "\n"
      ],
      "text/plain": [
       "   0%   25%   50%   75%  100% \n",
       " 9.40 16.15 20.90 26.70 32.00 "
      ]
     },
     "metadata": {},
     "output_type": "display_data"
    },
    {
     "data": {
      "text/plain": [
       "   Min. 1st Qu.  Median    Mean 3rd Qu.    Max. \n",
       "   9.40   16.15   20.90   20.98   26.70   32.00 "
      ]
     },
     "metadata": {},
     "output_type": "display_data"
    }
   ],
   "source": [
    "max(df10$고령인구비율2010)\n",
    "min(df10$고령인구비율2010)\n",
    "sum(df10$고령인구비율2010)\n",
    "median(df10$고령인구비율2010)\n",
    "mean(df10$고령인구비율2010)\n",
    "quantile(df10$고령인구비율2010)\n",
    "summary(df10$고령인구비율2010)"
   ]
  },
  {
   "cell_type": "code",
   "execution_count": 52,
   "id": "38e70f7e-92b8-48df-9b60-28200efe9625",
   "metadata": {
    "tags": []
   },
   "outputs": [
    {
     "data": {
      "text/html": [
       "<table class=\"dataframe\">\n",
       "<caption>A data.frame: 4 × 5</caption>\n",
       "<thead>\n",
       "\t<tr><th scope=col>도</th><th scope=col>시군</th><th scope=col>고령인구비율2010</th><th scope=col>고령인구비율2015</th><th scope=col>고령인구비율2020</th></tr>\n",
       "\t<tr><th scope=col>&lt;chr&gt;</th><th scope=col>&lt;chr&gt;</th><th scope=col>&lt;dbl&gt;</th><th scope=col>&lt;dbl&gt;</th><th scope=col>&lt;dbl&gt;</th></tr>\n",
       "</thead>\n",
       "<tbody>\n",
       "\t<tr><td>강원도</td><td>춘천시</td><td>13.1</td><td>14.8</td><td>17.9</td></tr>\n",
       "\t<tr><td>강원도</td><td>강릉시</td><td>14.3</td><td>17.2</td><td>21.3</td></tr>\n",
       "\t<tr><td>강원도</td><td>태백시</td><td>14.8</td><td>19.0</td><td>25.2</td></tr>\n",
       "\t<tr><td>강원도</td><td>삼척시</td><td>17.9</td><td>20.5</td><td>25.4</td></tr>\n",
       "</tbody>\n",
       "</table>\n"
      ],
      "text/latex": [
       "A data.frame: 4 × 5\n",
       "\\begin{tabular}{lllll}\n",
       " 도 & 시군 & 고령인구비율2010 & 고령인구비율2015 & 고령인구비율2020\\\\\n",
       " <chr> & <chr> & <dbl> & <dbl> & <dbl>\\\\\n",
       "\\hline\n",
       "\t 강원도 & 춘천시 & 13.1 & 14.8 & 17.9\\\\\n",
       "\t 강원도 & 강릉시 & 14.3 & 17.2 & 21.3\\\\\n",
       "\t 강원도 & 태백시 & 14.8 & 19.0 & 25.2\\\\\n",
       "\t 강원도 & 삼척시 & 17.9 & 20.5 & 25.4\\\\\n",
       "\\end{tabular}\n"
      ],
      "text/markdown": [
       "\n",
       "A data.frame: 4 × 5\n",
       "\n",
       "| 도 &lt;chr&gt; | 시군 &lt;chr&gt; | 고령인구비율2010 &lt;dbl&gt; | 고령인구비율2015 &lt;dbl&gt; | 고령인구비율2020 &lt;dbl&gt; |\n",
       "|---|---|---|---|---|\n",
       "| 강원도 | 춘천시 | 13.1 | 14.8 | 17.9 |\n",
       "| 강원도 | 강릉시 | 14.3 | 17.2 | 21.3 |\n",
       "| 강원도 | 태백시 | 14.8 | 19.0 | 25.2 |\n",
       "| 강원도 | 삼척시 | 17.9 | 20.5 | 25.4 |\n",
       "\n"
      ],
      "text/plain": [
       "  도     시군   고령인구비율2010 고령인구비율2015 고령인구비율2020\n",
       "1 강원도 춘천시 13.1             14.8             17.9            \n",
       "2 강원도 강릉시 14.3             17.2             21.3            \n",
       "3 강원도 태백시 14.8             19.0             25.2            \n",
       "4 강원도 삼척시 17.9             20.5             25.4            "
      ]
     },
     "metadata": {},
     "output_type": "display_data"
    },
    {
     "data": {
      "text/html": [
       "<table class=\"dataframe\">\n",
       "<caption>A data.frame: 5 × 5</caption>\n",
       "<thead>\n",
       "\t<tr><th scope=col>도</th><th scope=col>시군</th><th scope=col>고령인구비율2010</th><th scope=col>고령인구비율2015</th><th scope=col>고령인구비율2020</th></tr>\n",
       "\t<tr><th scope=col>&lt;chr&gt;</th><th scope=col>&lt;chr&gt;</th><th scope=col>&lt;dbl&gt;</th><th scope=col>&lt;dbl&gt;</th><th scope=col>&lt;dbl&gt;</th></tr>\n",
       "</thead>\n",
       "<tbody>\n",
       "\t<tr><td>전라남도</td><td>고흥군</td><td>32.0</td><td>36.6</td><td>41.1</td></tr>\n",
       "\t<tr><td>전라남도</td><td>보성군</td><td>29.5</td><td>33.5</td><td>38.5</td></tr>\n",
       "\t<tr><td>전라남도</td><td>함평군</td><td>29.5</td><td>32.3</td><td>36.6</td></tr>\n",
       "\t<tr><td>전라남도</td><td>곡성군</td><td>29.1</td><td>32.2</td><td>36.3</td></tr>\n",
       "\t<tr><td>전라북도</td><td>임실군</td><td>28.9</td><td>31.5</td><td>36.4</td></tr>\n",
       "</tbody>\n",
       "</table>\n"
      ],
      "text/latex": [
       "A data.frame: 5 × 5\n",
       "\\begin{tabular}{lllll}\n",
       " 도 & 시군 & 고령인구비율2010 & 고령인구비율2015 & 고령인구비율2020\\\\\n",
       " <chr> & <chr> & <dbl> & <dbl> & <dbl>\\\\\n",
       "\\hline\n",
       "\t 전라남도 & 고흥군 & 32.0 & 36.6 & 41.1\\\\\n",
       "\t 전라남도 & 보성군 & 29.5 & 33.5 & 38.5\\\\\n",
       "\t 전라남도 & 함평군 & 29.5 & 32.3 & 36.6\\\\\n",
       "\t 전라남도 & 곡성군 & 29.1 & 32.2 & 36.3\\\\\n",
       "\t 전라북도 & 임실군 & 28.9 & 31.5 & 36.4\\\\\n",
       "\\end{tabular}\n"
      ],
      "text/markdown": [
       "\n",
       "A data.frame: 5 × 5\n",
       "\n",
       "| 도 &lt;chr&gt; | 시군 &lt;chr&gt; | 고령인구비율2010 &lt;dbl&gt; | 고령인구비율2015 &lt;dbl&gt; | 고령인구비율2020 &lt;dbl&gt; |\n",
       "|---|---|---|---|---|\n",
       "| 전라남도 | 고흥군 | 32.0 | 36.6 | 41.1 |\n",
       "| 전라남도 | 보성군 | 29.5 | 33.5 | 38.5 |\n",
       "| 전라남도 | 함평군 | 29.5 | 32.3 | 36.6 |\n",
       "| 전라남도 | 곡성군 | 29.1 | 32.2 | 36.3 |\n",
       "| 전라북도 | 임실군 | 28.9 | 31.5 | 36.4 |\n",
       "\n"
      ],
      "text/plain": [
       "  도       시군   고령인구비율2010 고령인구비율2015 고령인구비율2020\n",
       "1 전라남도 고흥군 32.0             36.6             41.1            \n",
       "2 전라남도 보성군 29.5             33.5             38.5            \n",
       "3 전라남도 함평군 29.5             32.3             36.6            \n",
       "4 전라남도 곡성군 29.1             32.2             36.3            \n",
       "5 전라북도 임실군 28.9             31.5             36.4            "
      ]
     },
     "metadata": {},
     "output_type": "display_data"
    }
   ],
   "source": [
    "slice(df10, c(1,3,5,7))                   #행을 번호로 선택\n",
    "slice_max(df10, df10$고령인구비율2010, prop=0.1)"
   ]
  },
  {
   "cell_type": "code",
   "execution_count": 59,
   "id": "e426dee9-a394-4e8e-b268-1c814cdad8b8",
   "metadata": {
    "tags": []
   },
   "outputs": [
    {
     "data": {
      "text/html": [
       "<table class=\"dataframe\">\n",
       "<caption>A tibble: 3 × 2</caption>\n",
       "<thead>\n",
       "\t<tr><th scope=col>도</th><th scope=col>도별 고령인구비율 평균</th></tr>\n",
       "\t<tr><th scope=col>&lt;chr&gt;</th><th scope=col>&lt;dbl&gt;</th></tr>\n",
       "</thead>\n",
       "<tbody>\n",
       "\t<tr><td>강원도  </td><td>17.08333</td></tr>\n",
       "\t<tr><td>전라남도</td><td>23.43043</td></tr>\n",
       "\t<tr><td>전라북도</td><td>21.95000</td></tr>\n",
       "</tbody>\n",
       "</table>\n"
      ],
      "text/latex": [
       "A tibble: 3 × 2\n",
       "\\begin{tabular}{ll}\n",
       " 도 & 도별 고령인구비율 평균\\\\\n",
       " <chr> & <dbl>\\\\\n",
       "\\hline\n",
       "\t 강원도   & 17.08333\\\\\n",
       "\t 전라남도 & 23.43043\\\\\n",
       "\t 전라북도 & 21.95000\\\\\n",
       "\\end{tabular}\n"
      ],
      "text/markdown": [
       "\n",
       "A tibble: 3 × 2\n",
       "\n",
       "| 도 &lt;chr&gt; | 도별 고령인구비율 평균 &lt;dbl&gt; |\n",
       "|---|---|\n",
       "| 강원도   | 17.08333 |\n",
       "| 전라남도 | 23.43043 |\n",
       "| 전라북도 | 21.95000 |\n",
       "\n"
      ],
      "text/plain": [
       "  도       도별 고령인구비율 평균\n",
       "1 강원도   17.08333              \n",
       "2 전라남도 23.43043              \n",
       "3 전라북도 21.95000              "
      ]
     },
     "metadata": {},
     "output_type": "display_data"
    }
   ],
   "source": [
    "df10 %>% group_by(도) %>% summarise('도별 고령인구비율 평균' = mean(고령인구비율2010))"
   ]
  }
 ],
 "metadata": {
  "kernelspec": {
   "display_name": "R",
   "language": "R",
   "name": "r"
  },
  "language_info": {
   "codemirror_mode": "r",
   "file_extension": ".r",
   "mimetype": "text/x-r-source",
   "name": "R",
   "pygments_lexer": "r",
   "version": "4.2.2"
  }
 },
 "nbformat": 4,
 "nbformat_minor": 5
}
