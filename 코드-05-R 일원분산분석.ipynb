{
 "cells": [
  {
   "cell_type": "code",
   "execution_count": 1,
   "id": "ee383fbe-7130-4347-b242-8ed331a04a59",
   "metadata": {
    "tags": []
   },
   "outputs": [
    {
     "data": {
      "text/html": [
       "<table class=\"dataframe\">\n",
       "<caption>A data.frame: 6 × 2</caption>\n",
       "<thead>\n",
       "\t<tr><th></th><th scope=col>weight</th><th scope=col>group</th></tr>\n",
       "\t<tr><th></th><th scope=col>&lt;dbl&gt;</th><th scope=col>&lt;fct&gt;</th></tr>\n",
       "</thead>\n",
       "<tbody>\n",
       "\t<tr><th scope=row>1</th><td>4.17</td><td>ctrl</td></tr>\n",
       "\t<tr><th scope=row>2</th><td>5.58</td><td>ctrl</td></tr>\n",
       "\t<tr><th scope=row>3</th><td>5.18</td><td>ctrl</td></tr>\n",
       "\t<tr><th scope=row>4</th><td>6.11</td><td>ctrl</td></tr>\n",
       "\t<tr><th scope=row>5</th><td>4.50</td><td>ctrl</td></tr>\n",
       "\t<tr><th scope=row>6</th><td>4.61</td><td>ctrl</td></tr>\n",
       "</tbody>\n",
       "</table>\n"
      ],
      "text/latex": [
       "A data.frame: 6 × 2\n",
       "\\begin{tabular}{r|ll}\n",
       "  & weight & group\\\\\n",
       "  & <dbl> & <fct>\\\\\n",
       "\\hline\n",
       "\t1 & 4.17 & ctrl\\\\\n",
       "\t2 & 5.58 & ctrl\\\\\n",
       "\t3 & 5.18 & ctrl\\\\\n",
       "\t4 & 6.11 & ctrl\\\\\n",
       "\t5 & 4.50 & ctrl\\\\\n",
       "\t6 & 4.61 & ctrl\\\\\n",
       "\\end{tabular}\n"
      ],
      "text/markdown": [
       "\n",
       "A data.frame: 6 × 2\n",
       "\n",
       "| <!--/--> | weight &lt;dbl&gt; | group &lt;fct&gt; |\n",
       "|---|---|---|\n",
       "| 1 | 4.17 | ctrl |\n",
       "| 2 | 5.58 | ctrl |\n",
       "| 3 | 5.18 | ctrl |\n",
       "| 4 | 6.11 | ctrl |\n",
       "| 5 | 4.50 | ctrl |\n",
       "| 6 | 4.61 | ctrl |\n",
       "\n"
      ],
      "text/plain": [
       "  weight group\n",
       "1 4.17   ctrl \n",
       "2 5.58   ctrl \n",
       "3 5.18   ctrl \n",
       "4 6.11   ctrl \n",
       "5 4.50   ctrl \n",
       "6 4.61   ctrl "
      ]
     },
     "metadata": {},
     "output_type": "display_data"
    }
   ],
   "source": [
    "data('PlantGrowth')\n",
    "head(PlantGrowth)"
   ]
  },
  {
   "cell_type": "code",
   "execution_count": 2,
   "id": "64bd76eb-9ac6-499f-b8c3-d76d8b5db1cb",
   "metadata": {
    "tags": []
   },
   "outputs": [
    {
     "data": {
      "text/html": [
       "<style>\n",
       ".list-inline {list-style: none; margin:0; padding: 0}\n",
       ".list-inline>li {display: inline-block}\n",
       ".list-inline>li:not(:last-child)::after {content: \"\\00b7\"; padding: 0 .5ex}\n",
       "</style>\n",
       "<ol class=list-inline><li>'ctrl'</li><li>'trt1'</li><li>'trt2'</li></ol>\n"
      ],
      "text/latex": [
       "\\begin{enumerate*}\n",
       "\\item 'ctrl'\n",
       "\\item 'trt1'\n",
       "\\item 'trt2'\n",
       "\\end{enumerate*}\n"
      ],
      "text/markdown": [
       "1. 'ctrl'\n",
       "2. 'trt1'\n",
       "3. 'trt2'\n",
       "\n",
       "\n"
      ],
      "text/plain": [
       "[1] \"ctrl\" \"trt1\" \"trt2\""
      ]
     },
     "metadata": {},
     "output_type": "display_data"
    },
    {
     "data": {
      "text/plain": [
       "            Df Sum Sq Mean Sq F value Pr(>F)  \n",
       "group        2  3.766  1.8832   4.846 0.0159 *\n",
       "Residuals   27 10.492  0.3886                 \n",
       "---\n",
       "Signif. codes:  0 '***' 0.001 '**' 0.01 '*' 0.05 '.' 0.1 ' ' 1"
      ]
     },
     "metadata": {},
     "output_type": "display_data"
    }
   ],
   "source": [
    "levels(PlantGrowth$group)     #그룹에 몇 개의 수준이 있는지 확인\n",
    "#'ctrl', 'trt1', 'trt2'\n",
    "anova1 = aov(weight ~ group, data = PlantGrowth)\n",
    "summary(anova1)"
   ]
  },
  {
   "cell_type": "code",
   "execution_count": 9,
   "id": "0cb2afb6-e2af-4f19-9e3d-76f3d110bec5",
   "metadata": {
    "tags": []
   },
   "outputs": [
    {
     "data": {
      "text/plain": [
       "\n",
       "\tShapiro-Wilk normality test\n",
       "\n",
       "data:  PlantGrowth$weight[PlantGrowth$group == \"ctrl\"]\n",
       "W = 0.95668, p-value = 0.7475\n"
      ]
     },
     "metadata": {},
     "output_type": "display_data"
    },
    {
     "data": {
      "text/plain": [
       "\n",
       "\tShapiro-Wilk normality test\n",
       "\n",
       "data:  PlantGrowth$weight[PlantGrowth$group == \"trt1\"]\n",
       "W = 0.93041, p-value = 0.4519\n"
      ]
     },
     "metadata": {},
     "output_type": "display_data"
    },
    {
     "data": {
      "text/plain": [
       "\n",
       "\tShapiro-Wilk normality test\n",
       "\n",
       "data:  PlantGrowth$weight[PlantGrowth$group == \"trt2\"]\n",
       "W = 0.94101, p-value = 0.5643\n"
      ]
     },
     "metadata": {},
     "output_type": "display_data"
    }
   ],
   "source": [
    "shapiro.test(PlantGrowth$weight[PlantGrowth$group=='ctrl'])\n",
    "shapiro.test(PlantGrowth$weight[PlantGrowth$group=='trt1'])\n",
    "shapiro.test(PlantGrowth$weight[PlantGrowth$group=='trt2'])"
   ]
  },
  {
   "cell_type": "code",
   "execution_count": 3,
   "id": "439cac90-aa88-4bd6-a6fa-8104ffc953ab",
   "metadata": {
    "tags": []
   },
   "outputs": [
    {
     "data": {
      "text/plain": [
       "\n",
       "\tBartlett test of homogeneity of variances\n",
       "\n",
       "data:  PlantGrowth$weight and PlantGrowth$group\n",
       "Bartlett's K-squared = 2.8786, df = 2, p-value = 0.2371\n"
      ]
     },
     "metadata": {},
     "output_type": "display_data"
    },
    {
     "data": {
      "text/plain": [
       "\n",
       "\tClassical Levene's test based on the absolute deviations from the mean\n",
       "\t( none not applied because the location is not set to median )\n",
       "\n",
       "data:  PlantGrowth$weight\n",
       "Test Statistic = 1.237, p-value = 0.3062\n"
      ]
     },
     "metadata": {},
     "output_type": "display_data"
    }
   ],
   "source": [
    "library(lawstat)\n",
    "bartlett.test(PlantGrowth$weight, PlantGrowth$group)\n",
    "#바틀렛 검정\n",
    "levene.test(PlantGrowth$weight, PlantGrowth$group, location='mean')\n",
    "#레빈 검정"
   ]
  },
  {
   "cell_type": "code",
   "execution_count": 7,
   "id": "f221c829-28ce-4cf3-ad22-3fe2536a1dd0",
   "metadata": {
    "tags": []
   },
   "outputs": [
    {
     "name": "stderr",
     "output_type": "stream",
     "text": [
      "Installing package into 'C:/Users/82107/AppData/Local/R/win-library/4.2'\n",
      "(as 'lib' is unspecified)\n",
      "\n",
      "also installing the dependencies 'rootSolve', 'lmom', 'expm', 'Exact', 'gld'\n",
      "\n",
      "\n"
     ]
    },
    {
     "name": "stdout",
     "output_type": "stream",
     "text": [
      "package 'rootSolve' successfully unpacked and MD5 sums checked\n",
      "package 'lmom' successfully unpacked and MD5 sums checked\n",
      "package 'expm' successfully unpacked and MD5 sums checked\n",
      "package 'Exact' successfully unpacked and MD5 sums checked\n",
      "package 'gld' successfully unpacked and MD5 sums checked\n",
      "package 'DescTools' successfully unpacked and MD5 sums checked\n",
      "\n",
      "The downloaded binary packages are in\n",
      "\tC:\\Users\\82107\\AppData\\Local\\Temp\\Rtmpqk203t\\downloaded_packages\n"
     ]
    },
    {
     "data": {
      "text/plain": [
       "\n",
       "  Posthoc multiple comparisons of means : Fisher LSD \n",
       "    95% family-wise confidence level\n",
       "\n",
       "$group\n",
       "            diff      lwr.ci    upr.ci   pval    \n",
       "trt1-ctrl -0.371 -0.94301261 0.2010126 0.1944    \n",
       "trt2-ctrl  0.494 -0.07801261 1.0660126 0.0877 .  \n",
       "trt2-trt1  0.865  0.29298739 1.4370126 0.0045 ** \n",
       "\n",
       "---\n",
       "Signif. codes:  0 '***' 0.001 '**' 0.01 '*' 0.05 '.' 0.1 ' ' 1\n"
      ]
     },
     "metadata": {},
     "output_type": "display_data"
    },
    {
     "data": {
      "text/plain": [
       "\n",
       "  Posthoc multiple comparisons of means : Bonferroni \n",
       "    95% family-wise confidence level\n",
       "\n",
       "$group\n",
       "            diff     lwr.ci    upr.ci   pval    \n",
       "trt1-ctrl -0.371 -1.0825786 0.3405786 0.5832    \n",
       "trt2-ctrl  0.494 -0.2175786 1.2055786 0.2630    \n",
       "trt2-trt1  0.865  0.1534214 1.5765786 0.0134 *  \n",
       "\n",
       "---\n",
       "Signif. codes:  0 '***' 0.001 '**' 0.01 '*' 0.05 '.' 0.1 ' ' 1\n"
      ]
     },
     "metadata": {},
     "output_type": "display_data"
    },
    {
     "data": {
      "text/plain": [
       "\n",
       "  Posthoc multiple comparisons of means : Tukey HSD \n",
       "    95% family-wise confidence level\n",
       "\n",
       "$group\n",
       "            diff     lwr.ci    upr.ci   pval    \n",
       "trt1-ctrl -0.371 -1.0622161 0.3202161 0.3909    \n",
       "trt2-ctrl  0.494 -0.1972161 1.1852161 0.1980    \n",
       "trt2-trt1  0.865  0.1737839 1.5562161 0.0120 *  \n",
       "\n",
       "---\n",
       "Signif. codes:  0 '***' 0.001 '**' 0.01 '*' 0.05 '.' 0.1 ' ' 1\n"
      ]
     },
     "metadata": {},
     "output_type": "display_data"
    },
    {
     "data": {
      "text/plain": [
       "\n",
       "  Posthoc multiple comparisons of means: Scheffe Test \n",
       "    95% family-wise confidence level\n",
       "\n",
       "$group\n",
       "            diff     lwr.ci    upr.ci   pval    \n",
       "trt1-ctrl -0.371 -1.0930531 0.3510531 0.4241    \n",
       "trt2-ctrl  0.494 -0.2280531 1.2160531 0.2265    \n",
       "trt2-trt1  0.865  0.1429469 1.5870531 0.0163 *  \n",
       "\n",
       "---\n",
       "Signif. codes:  0 '***' 0.001 '**' 0.01 '*' 0.05 '.' 0.1 ' ' 1\n"
      ]
     },
     "metadata": {},
     "output_type": "display_data"
    }
   ],
   "source": [
    "install.packages('DescTools')\n",
    "library(DescTools)\n",
    "PostHocTest(anova1, method=\"lsd\")\n",
    "PostHocTest(anova1, method=\"bonferroni\")\n",
    "PostHocTest(anova1, method=\"hsd\")\n",
    "PostHocTest(anova1, method=\"scheffe\")"
   ]
  }
 ],
 "metadata": {
  "kernelspec": {
   "display_name": "R",
   "language": "R",
   "name": "r"
  },
  "language_info": {
   "codemirror_mode": "r",
   "file_extension": ".r",
   "mimetype": "text/x-r-source",
   "name": "R",
   "pygments_lexer": "r",
   "version": "4.2.2"
  }
 },
 "nbformat": 4,
 "nbformat_minor": 5
}
